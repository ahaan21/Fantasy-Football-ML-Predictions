{
 "cells": [
  {
   "cell_type": "code",
   "execution_count": 1,
   "metadata": {
    "executionInfo": {
     "elapsed": 1298,
     "status": "ok",
     "timestamp": 1656350204406,
     "user": {
      "displayName": "Alex Haan",
      "userId": "05701709048639503453"
     },
     "user_tz": 420
    },
    "id": "Gc63I6Vbx72D"
   },
   "outputs": [],
   "source": [
    "import pkg_resources\n",
    "from pkg_resources import DistributionNotFound, VersionConflict\n",
    "from platform import python_version\n",
    "import numpy as np\n",
    "import pandas as pd\n",
    "import time\n",
    "import gc\n",
    "import random\n",
    "from sklearn.model_selection import cross_val_score, GridSearchCV, cross_validate, train_test_split\n",
    "from sklearn.metrics import accuracy_score, classification_report\n",
    "from sklearn.svm import SVC\n",
    "from sklearn.linear_model import LinearRegression, Lasso\n",
    "\n",
    "from sklearn.neural_network import MLPRegressor\n",
    "from sklearn.ensemble import RandomForestClassifier\n",
    "from sklearn.preprocessing import StandardScaler, normalize\n",
    "from sklearn.decomposition import PCA\n",
    "from sklearn.impute import SimpleImputer\n",
    "import numpy as np \n",
    "from scipy.stats import boxcox\n",
    "from scipy.special import inv_boxcox\n",
    "import seaborn as sns \n",
    "from sklearn.metrics import mean_squared_error\n",
    "import matplotlib.pyplot as plt\n",
    "from sklearn.model_selection import KFold\n",
    "from sklearn.model_selection import GridSearchCV\n",
    "from sklearn.feature_selection import RFE\n",
    "from sklearn import linear_model\n",
    "from sklearn.linear_model import ElasticNet\n",
    "from numpy import arange\n",
    "import xgboost as xgb\n",
    "from sklearn.ensemble import RandomForestRegressor\n",
    "from sklearn.decomposition import PCA\n",
    "from yellowbrick.regressor import CooksDistance\n",
    "from yellowbrick.datasets import load_concrete\n",
    "from sklearn.metrics import mean_absolute_percentage_error\n",
    "from datetime import date\n",
    "import random\n",
    "from sklearn.metrics import make_scorer\n",
    "from sklearn.neural_network import MLPClassifier\n",
    "\n",
    "today = str(date.today())"
   ]
  },
  {
   "cell_type": "code",
   "execution_count": 2,
   "metadata": {
    "executionInfo": {
     "elapsed": 23,
     "status": "ok",
     "timestamp": 1656350204409,
     "user": {
      "displayName": "Alex Haan",
      "userId": "05701709048639503453"
     },
     "user_tz": 420
    },
    "id": "ytkgOykwF2nA"
   },
   "outputs": [],
   "source": [
    "random.seed(20)"
   ]
  },
  {
   "cell_type": "code",
   "execution_count": 3,
   "metadata": {
    "executionInfo": {
     "elapsed": 23,
     "status": "ok",
     "timestamp": 1656350204412,
     "user": {
      "displayName": "Alex Haan",
      "userId": "05701709048639503453"
     },
     "user_tz": 420
    },
    "id": "wPOcvfVtWV_O"
   },
   "outputs": [],
   "source": [
    "import warnings\n",
    "warnings.filterwarnings('ignore')"
   ]
  },
  {
   "cell_type": "code",
   "execution_count": 4,
   "metadata": {
    "colab": {
     "base_uri": "https://localhost:8080/"
    },
    "executionInfo": {
     "elapsed": 22514,
     "status": "ok",
     "timestamp": 1656350226906,
     "user": {
      "displayName": "Alex Haan",
      "userId": "05701709048639503453"
     },
     "user_tz": 420
    },
    "id": "pM6P-Wgaxy9b",
    "outputId": "24e11591-3334-4d21-ea5e-23c524805aae"
   },
   "outputs": [
    {
     "name": "stdout",
     "output_type": "stream",
     "text": [
      "Mounted at /content/gdrive\n"
     ]
    }
   ],
   "source": [
    "from google.colab import drive\n",
    "drive.mount(\"/content/gdrive\")"
   ]
  },
  {
   "cell_type": "code",
   "execution_count": 7,
   "metadata": {
    "executionInfo": {
     "elapsed": 44242,
     "status": "ok",
     "timestamp": 1656350440689,
     "user": {
      "displayName": "Alex Haan",
      "userId": "05701709048639503453"
     },
     "user_tz": 420
    },
    "id": "1EJZyrRfKpVH"
   },
   "outputs": [],
   "source": [
    "# Create dataset\n",
    "\n",
    "# Get cutoffs\n",
    "points_df = pd.read_excel(\"/content/gdrive/MyDrive/DVA Project/Data/player_plus_team.xlsx\")\n",
    "\n",
    "points = points_df['Avg_PPRFantasyPoints']\n",
    "points_players = points_df.iloc[:, 1:5]\n",
    "points_players['y'] = points\n",
    "\n",
    "data_original = pd.read_excel('/content/gdrive/MyDrive/DVA Project/Data/pivoted_player_plus_team_data.xlsx')\n",
    "\n"
   ]
  },
  {
   "cell_type": "code",
   "execution_count": 10,
   "metadata": {
    "colab": {
     "base_uri": "https://localhost:8080/"
    },
    "executionInfo": {
     "elapsed": 381,
     "status": "ok",
     "timestamp": 1656350498821,
     "user": {
      "displayName": "Alex Haan",
      "userId": "05701709048639503453"
     },
     "user_tz": 420
    },
    "id": "ALfKHDU_Lgre",
    "outputId": "4c3820f8-5181-430c-9d5c-7d529fe2dff8"
   },
   "outputs": [
    {
     "name": "stdout",
     "output_type": "stream",
     "text": [
      "['Unnamed: 0', 'Player', 'Max_Team_Name', 'Pos', 'Current_Year', 'Age; year - 3', 'Age; year - 2', 'Age; year - 1', 'Avg_Cmp; year - 3', 'Avg_Cmp; year - 2', 'Avg_Cmp; year - 1', 'Avg_FL; year - 3', 'Avg_FL; year - 2', 'Avg_FL; year - 1', 'Avg_Int; year - 3', 'Avg_Int; year - 2', 'Avg_Int; year - 1', 'Avg_PPRFantasyPoints; year - 3', 'Avg_PPRFantasyPoints; year - 2', 'Avg_PPRFantasyPoints; year - 1', 'Avg_PassingAtt; year - 3', 'Avg_PassingAtt; year - 2', 'Avg_PassingAtt; year - 1', 'Avg_PassingTD; year - 3', 'Avg_PassingTD; year - 2', 'Avg_PassingTD; year - 1', 'Avg_PassingYds; year - 3', 'Avg_PassingYds; year - 2', 'Avg_PassingYds; year - 1', 'Avg_Rec; year - 3', 'Avg_Rec; year - 2', 'Avg_Rec; year - 1', 'Avg_ReceivingTD; year - 3', 'Avg_ReceivingTD; year - 2', 'Avg_ReceivingTD; year - 1', 'Avg_ReceivingYds; year - 3', 'Avg_ReceivingYds; year - 2', 'Avg_ReceivingYds; year - 1', 'Avg_RushingAtt; year - 3', 'Avg_RushingAtt; year - 2', 'Avg_RushingAtt; year - 1', 'Avg_RushingTD; year - 3', 'Avg_RushingTD; year - 2', 'Avg_RushingTD; year - 1', 'Avg_RushingYds; year - 3', 'Avg_RushingYds; year - 2', 'Avg_RushingYds; year - 1', 'Avg_Tgt; year - 3', 'Avg_Tgt; year - 2', 'Avg_Tgt; year - 1', 'Bad_Games; year - 3', 'Bad_Games; year - 2', 'Bad_Games; year - 1', 'Cmp_prop; year - 3', 'Cmp_prop; year - 2', 'Cmp_prop; year - 1', 'Drafted; year - 3', 'Drafted; year - 2', 'Drafted; year - 1', 'Finsished_Season; year - 3', 'Finsished_Season; year - 2', 'Finsished_Season; year - 1', 'Good_Games; year - 3', 'Good_Games; year - 2', 'Good_Games; year - 1', 'Great_Games; year - 3', 'Great_Games; year - 2', 'Great_Games; year - 1', 'PPRFP_prop; year - 3', 'PPRFP_prop; year - 2', 'PPRFP_prop; year - 1', 'PassAtt_prop; year - 3', 'PassAtt_prop; year - 2', 'PassAtt_prop; year - 1', 'PassTD_prop; year - 3', 'PassTD_prop; year - 2', 'PassTD_prop; year - 1', 'Pass_prop; year - 3', 'Pass_prop; year - 2', 'Pass_prop; year - 1', 'Pick_Number; year - 3', 'Pick_Number; year - 2', 'Pick_Number; year - 1', 'RecTD_prop; year - 3', 'RecTD_prop; year - 2', 'RecTD_prop; year - 1', 'RecYds_prop; year - 3', 'RecYds_prop; year - 2', 'RecYds_prop; year - 1', 'Rec_prop; year - 3', 'Rec_prop; year - 2', 'Rec_prop; year - 1', 'RushingAtt_prop; year - 3', 'RushingAtt_prop; year - 2', 'RushingAtt_prop; year - 1', 'RushingTD_prop; year - 3', 'RushingTD_prop; year - 2', 'RushingTD_prop; year - 1', 'RushingYds_prop; year - 3', 'RushingYds_prop; year - 2', 'RushingYds_prop; year - 1', 'SOS_Rank; year - 3', 'SOS_Rank; year - 2', 'SOS_Rank; year - 1', 'Section1_Fpts; year - 3', 'Section1_Fpts; year - 2', 'Section1_Fpts; year - 1', 'Section2_Fpts; year - 3', 'Section2_Fpts; year - 2', 'Section2_Fpts; year - 1', 'Section3_Fpts; year - 3', 'Section3_Fpts; year - 2', 'Section3_Fpts; year - 1', 'Std_Cmp; year - 3', 'Std_Cmp; year - 2', 'Std_Cmp; year - 1', 'Std_FL; year - 3', 'Std_FL; year - 2', 'Std_FL; year - 1', 'Std_Int; year - 3', 'Std_Int; year - 2', 'Std_Int; year - 1', 'Std_PPRFantasyPoints; year - 3', 'Std_PPRFantasyPoints; year - 2', 'Std_PPRFantasyPoints; year - 1', 'Std_PassingAtt; year - 3', 'Std_PassingAtt; year - 2', 'Std_PassingAtt; year - 1', 'Std_PassingTD; year - 3', 'Std_PassingTD; year - 2', 'Std_PassingTD; year - 1', 'Std_PassingYds; year - 3', 'Std_PassingYds; year - 2', 'Std_PassingYds; year - 1', 'Std_Rec; year - 3', 'Std_Rec; year - 2', 'Std_Rec; year - 1', 'Std_ReceivingTd; year - 3', 'Std_ReceivingTd; year - 2', 'Std_ReceivingTd; year - 1', 'Std_ReceivingYds; year - 3', 'Std_ReceivingYds; year - 2', 'Std_ReceivingYds; year - 1', 'Std_RushingAtt; year - 3', 'Std_RushingAtt; year - 2', 'Std_RushingAtt; year - 1', 'Std_RushingTD; year - 3', 'Std_RushingTD; year - 2', 'Std_RushingTD; year - 1', 'Std_RushingYds; year - 3', 'Std_RushingYds; year - 2', 'Std_RushingYds; year - 1', 'Std_Tgt; year - 3', 'Std_Tgt; year - 2', 'Std_Tgt; year - 1', 'Sum_Cmp; year - 3', 'Sum_Cmp; year - 2', 'Sum_Cmp; year - 1', 'Sum_FL; year - 3', 'Sum_FL; year - 2', 'Sum_FL; year - 1', 'Sum_Int; year - 3', 'Sum_Int; year - 2', 'Sum_Int; year - 1', 'Sum_PPRFantasyPoints; year - 3', 'Sum_PPRFantasyPoints; year - 2', 'Sum_PPRFantasyPoints; year - 1', 'Sum_PassingAtt; year - 3', 'Sum_PassingAtt; year - 2', 'Sum_PassingAtt; year - 1', 'Sum_PassingTD; year - 3', 'Sum_PassingTD; year - 2', 'Sum_PassingTD; year - 1', 'Sum_PassingYds; year - 3', 'Sum_PassingYds; year - 2', 'Sum_PassingYds; year - 1', 'Sum_Rec; year - 3', 'Sum_Rec; year - 2', 'Sum_Rec; year - 1', 'Sum_ReceivingTD; year - 3', 'Sum_ReceivingTD; year - 2', 'Sum_ReceivingTD; year - 1', 'Sum_ReceivingYds; year - 3', 'Sum_ReceivingYds; year - 2', 'Sum_ReceivingYds; year - 1', 'Sum_RushingAtt; year - 3', 'Sum_RushingAtt; year - 2', 'Sum_RushingAtt; year - 1', 'Sum_RushingTD; year - 3', 'Sum_RushingTD; year - 2', 'Sum_RushingTD; year - 1', 'Sum_RushingYds; year - 3', 'Sum_RushingYds; year - 2', 'Sum_RushingYds; year - 1', 'Sum_Tgt; year - 3', 'Sum_Tgt; year - 2', 'Sum_Tgt; year - 1', 'Team_PPRFantasyPoints; year - 3', 'Team_PPRFantasyPoints; year - 2', 'Team_PPRFantasyPoints; year - 1', 'Team_Rec; year - 3', 'Team_Rec; year - 2', 'Team_Rec; year - 1', 'Team_ReceivingTD; year - 3', 'Team_ReceivingTD; year - 2', 'Team_ReceivingTD; year - 1', 'Team_ReceivingYds; year - 3', 'Team_ReceivingYds; year - 2', 'Team_ReceivingYds; year - 1', 'Team_RushingAtt; year - 3', 'Team_RushingAtt; year - 2', 'Team_RushingAtt; year - 1', 'Team_RushingTD; year - 3', 'Team_RushingTD; year - 2', 'Team_RushingTD; year - 1', 'Team_RushingYds; year - 3', 'Team_RushingYds; year - 2', 'Team_RushingYds; year - 1', 'Team_Tgt; year - 3', 'Team_Tgt; year - 2', 'Team_Tgt; year - 1', 'Tgt_prop; year - 3', 'Tgt_prop; year - 2', 'Tgt_prop; year - 1', 'Weeks_Played; year - 3', 'Weeks_Played; year - 2', 'Weeks_Played; year - 1', 'YardsPerAttempt; year - 3', 'YardsPerAttempt; year - 2', 'YardsPerAttempt; year - 1', 'Avg_PassingYds', 'Avg_PassingAtt', 'Avg_PassingTD', 'YardsPerAttempt', 'RESPONSE_Sum_PPRFantasyPoints']\n"
     ]
    }
   ],
   "source": [
    "print([x for x in data_original.columns])"
   ]
  },
  {
   "cell_type": "code",
   "execution_count": 11,
   "metadata": {
    "executionInfo": {
     "elapsed": 474,
     "status": "ok",
     "timestamp": 1656350538685,
     "user": {
      "displayName": "Alex Haan",
      "userId": "05701709048639503453"
     },
     "user_tz": 420
    },
    "id": "Ryz2mUINK8jL"
   },
   "outputs": [],
   "source": [
    "pos = 'RB'\n",
    "\n",
    "# Join with Data\n",
    "data_full = data_original.merge(points_players, left_on=['Player','Current_Year','Pos', 'Max_Team_Name'], right_on=['Player','Year','Pos', 'Team_Name'], how='left', suffixes=('', '_DROP')).filter(regex='^(?!.*_DROP)')\n",
    "#data_full = data_full.drop(columns={'RESPONSE_Sum_PPRFantasyPoints', 'Team_Name', 'Year'}, axis=1)\n",
    "data_full = data_full.drop(columns={'Team_Name', 'Year'}, axis=1)\n",
    "data_full = data_full[data_full['Pos'] == pos]"
   ]
  },
  {
   "cell_type": "code",
   "execution_count": 60,
   "metadata": {
    "executionInfo": {
     "elapsed": 332,
     "status": "ok",
     "timestamp": 1656352499862,
     "user": {
      "displayName": "Alex Haan",
      "userId": "05701709048639503453"
     },
     "user_tz": 420
    },
    "id": "3BYKb2JgL4Lo"
   },
   "outputs": [],
   "source": [
    "# Val Set\n",
    "temp_data = data_full.copy()\n",
    "\n",
    "temp_data = temp_data.iloc[:, 1:]\n",
    "\n",
    "val_set = temp_data[temp_data['Current_Year'] == 2021]\n",
    "pred_set = temp_data[temp_data['Current_Year'] == 2022]\n",
    "\n",
    "val_set = val_set[val_set.columns.drop(list(val_set.filter(regex='Pass')))]\n",
    "val_set = val_set[val_set.columns.drop(list(val_set.filter(regex='Int')))]\n",
    "val_set = val_set[val_set.columns.drop(list(val_set.filter(regex='Cmp')))]\n",
    "\n",
    "\n",
    "model_data = temp_data[temp_data['y'] > 0]\n",
    "#model_data = model_data[model_data['Avg_PPRFantasyPoints; year - 1'] > cutoff_val]\n",
    "model_data = model_data[model_data['Current_Year'] < 2021]\n",
    "model_data = model_data[model_data['Current_Year'] >= 2011]\n",
    "\n",
    "\n",
    "#model_data = model_data.iloc[:, 1:]\n",
    "\n",
    "if pos == 'RB':\n",
    "  test = model_data[model_data.columns.drop(list(model_data.filter(regex='Pass')))]\n",
    "  test = test[test.columns.drop(list(test.filter(regex='Int')))]\n",
    "  test = test[test.columns.drop(list(test.filter(regex='Cmp')))]"
   ]
  },
  {
   "cell_type": "code",
   "execution_count": 38,
   "metadata": {
    "colab": {
     "base_uri": "https://localhost:8080/"
    },
    "executionInfo": {
     "elapsed": 12,
     "status": "ok",
     "timestamp": 1656351748451,
     "user": {
      "displayName": "Alex Haan",
      "userId": "05701709048639503453"
     },
     "user_tz": 420
    },
    "id": "ucbYbLMsOIR7",
    "outputId": "697343ce-40b2-4af4-c78e-642db4490029"
   },
   "outputs": [
    {
     "name": "stdout",
     "output_type": "stream",
     "text": [
      "['Player', 'Max_Team_Name', 'Pos', 'Current_Year', 'Age; year - 3', 'Age; year - 2', 'Age; year - 1', 'Avg_FL; year - 3', 'Avg_FL; year - 2', 'Avg_FL; year - 1', 'Avg_PPRFantasyPoints; year - 3', 'Avg_PPRFantasyPoints; year - 2', 'Avg_PPRFantasyPoints; year - 1', 'Avg_Rec; year - 3', 'Avg_Rec; year - 2', 'Avg_Rec; year - 1', 'Avg_ReceivingTD; year - 3', 'Avg_ReceivingTD; year - 2', 'Avg_ReceivingTD; year - 1', 'Avg_ReceivingYds; year - 3', 'Avg_ReceivingYds; year - 2', 'Avg_ReceivingYds; year - 1', 'Avg_RushingAtt; year - 3', 'Avg_RushingAtt; year - 2', 'Avg_RushingAtt; year - 1', 'Avg_RushingTD; year - 3', 'Avg_RushingTD; year - 2', 'Avg_RushingTD; year - 1', 'Avg_RushingYds; year - 3', 'Avg_RushingYds; year - 2', 'Avg_RushingYds; year - 1', 'Avg_Tgt; year - 3', 'Avg_Tgt; year - 2', 'Avg_Tgt; year - 1', 'Bad_Games; year - 3', 'Bad_Games; year - 2', 'Bad_Games; year - 1', 'Drafted; year - 3', 'Drafted; year - 2', 'Drafted; year - 1', 'Finsished_Season; year - 3', 'Finsished_Season; year - 2', 'Finsished_Season; year - 1', 'Good_Games; year - 3', 'Good_Games; year - 2', 'Good_Games; year - 1', 'Great_Games; year - 3', 'Great_Games; year - 2', 'Great_Games; year - 1', 'PPRFP_prop; year - 3', 'PPRFP_prop; year - 2', 'PPRFP_prop; year - 1', 'Pick_Number; year - 3', 'Pick_Number; year - 2', 'Pick_Number; year - 1', 'RecTD_prop; year - 3', 'RecTD_prop; year - 2', 'RecTD_prop; year - 1', 'RecYds_prop; year - 3', 'RecYds_prop; year - 2', 'RecYds_prop; year - 1', 'Rec_prop; year - 3', 'Rec_prop; year - 2', 'Rec_prop; year - 1', 'RushingAtt_prop; year - 3', 'RushingAtt_prop; year - 2', 'RushingAtt_prop; year - 1', 'RushingTD_prop; year - 3', 'RushingTD_prop; year - 2', 'RushingTD_prop; year - 1', 'RushingYds_prop; year - 3', 'RushingYds_prop; year - 2', 'RushingYds_prop; year - 1', 'SOS_Rank; year - 3', 'SOS_Rank; year - 2', 'SOS_Rank; year - 1', 'Section1_Fpts; year - 3', 'Section1_Fpts; year - 2', 'Section1_Fpts; year - 1', 'Section2_Fpts; year - 3', 'Section2_Fpts; year - 2', 'Section2_Fpts; year - 1', 'Section3_Fpts; year - 3', 'Section3_Fpts; year - 2', 'Section3_Fpts; year - 1', 'Std_FL; year - 3', 'Std_FL; year - 2', 'Std_FL; year - 1', 'Std_PPRFantasyPoints; year - 3', 'Std_PPRFantasyPoints; year - 2', 'Std_PPRFantasyPoints; year - 1', 'Std_Rec; year - 3', 'Std_Rec; year - 2', 'Std_Rec; year - 1', 'Std_ReceivingTd; year - 3', 'Std_ReceivingTd; year - 2', 'Std_ReceivingTd; year - 1', 'Std_ReceivingYds; year - 3', 'Std_ReceivingYds; year - 2', 'Std_ReceivingYds; year - 1', 'Std_RushingAtt; year - 3', 'Std_RushingAtt; year - 2', 'Std_RushingAtt; year - 1', 'Std_RushingTD; year - 3', 'Std_RushingTD; year - 2', 'Std_RushingTD; year - 1', 'Std_RushingYds; year - 3', 'Std_RushingYds; year - 2', 'Std_RushingYds; year - 1', 'Std_Tgt; year - 3', 'Std_Tgt; year - 2', 'Std_Tgt; year - 1', 'Sum_FL; year - 3', 'Sum_FL; year - 2', 'Sum_FL; year - 1', 'Sum_PPRFantasyPoints; year - 3', 'Sum_PPRFantasyPoints; year - 2', 'Sum_PPRFantasyPoints; year - 1', 'Sum_Rec; year - 3', 'Sum_Rec; year - 2', 'Sum_Rec; year - 1', 'Sum_ReceivingTD; year - 3', 'Sum_ReceivingTD; year - 2', 'Sum_ReceivingTD; year - 1', 'Sum_ReceivingYds; year - 3', 'Sum_ReceivingYds; year - 2', 'Sum_ReceivingYds; year - 1', 'Sum_RushingAtt; year - 3', 'Sum_RushingAtt; year - 2', 'Sum_RushingAtt; year - 1', 'Sum_RushingTD; year - 3', 'Sum_RushingTD; year - 2', 'Sum_RushingTD; year - 1', 'Sum_RushingYds; year - 3', 'Sum_RushingYds; year - 2', 'Sum_RushingYds; year - 1', 'Sum_Tgt; year - 3', 'Sum_Tgt; year - 2', 'Sum_Tgt; year - 1', 'Team_PPRFantasyPoints; year - 3', 'Team_PPRFantasyPoints; year - 2', 'Team_PPRFantasyPoints; year - 1', 'Team_Rec; year - 3', 'Team_Rec; year - 2', 'Team_Rec; year - 1', 'Team_ReceivingTD; year - 3', 'Team_ReceivingTD; year - 2', 'Team_ReceivingTD; year - 1', 'Team_ReceivingYds; year - 3', 'Team_ReceivingYds; year - 2', 'Team_ReceivingYds; year - 1', 'Team_RushingAtt; year - 3', 'Team_RushingAtt; year - 2', 'Team_RushingAtt; year - 1', 'Team_RushingTD; year - 3', 'Team_RushingTD; year - 2', 'Team_RushingTD; year - 1', 'Team_RushingYds; year - 3', 'Team_RushingYds; year - 2', 'Team_RushingYds; year - 1', 'Team_Tgt; year - 3', 'Team_Tgt; year - 2', 'Team_Tgt; year - 1', 'Tgt_prop; year - 3', 'Tgt_prop; year - 2', 'Tgt_prop; year - 1', 'Weeks_Played; year - 3', 'Weeks_Played; year - 2', 'Weeks_Played; year - 1', 'YardsPerAttempt; year - 3', 'YardsPerAttempt; year - 2', 'YardsPerAttempt; year - 1', 'YardsPerAttempt', 'RESPONSE_Sum_PPRFantasyPoints', 'y']\n"
     ]
    }
   ],
   "source": [
    "print([x for x in test.columns])"
   ]
  },
  {
   "cell_type": "code",
   "execution_count": 35,
   "metadata": {
    "executionInfo": {
     "elapsed": 1,
     "status": "ok",
     "timestamp": 1656351285634,
     "user": {
      "displayName": "Alex Haan",
      "userId": "05701709048639503453"
     },
     "user_tz": 420
    },
    "id": "2iCrm52ZMN_t"
   },
   "outputs": [],
   "source": [
    "x_data = test.iloc[:, 5:]"
   ]
  },
  {
   "cell_type": "code",
   "execution_count": null,
   "metadata": {
    "id": "bvdnq6giMeVl"
   },
   "outputs": [],
   "source": [
    "corr_list = x_data[x_data.columns[1:]].corr()['y'][:]\n",
    "corr_list.sort_values(inplace=True)\n",
    "print(corr_list.to_string())"
   ]
  },
  {
   "cell_type": "code",
   "execution_count": 61,
   "metadata": {
    "executionInfo": {
     "elapsed": 341,
     "status": "ok",
     "timestamp": 1656352509102,
     "user": {
      "displayName": "Alex Haan",
      "userId": "05701709048639503453"
     },
     "user_tz": 420
    },
    "id": "9GP245OOQQMU"
   },
   "outputs": [],
   "source": [
    "# Split into Train and Test\n",
    "\n",
    "data = test.copy()\n",
    "x_players = data.iloc[:, 0:4]\n",
    "x_data = data.iloc[:, 4:-1]\n",
    "y_data = data.iloc[:, -1]\n",
    "\n",
    "val_players = val_set.iloc[:, 0:4]\n",
    "val_x = val_set.iloc[:, 4:-1]\n",
    "val_x = val_x.fillna(0)\n",
    "val_y = val_set.iloc[:, -1]\n",
    "\n",
    "# Fill NA with 0\n",
    "x_data = x_data.fillna(0)\n",
    "  \n",
    "# Split Train Test\n",
    "x_train, x_test, y_train, y_test = train_test_split(x_data, y_data, test_size=0.30, random_state=614, shuffle=True)"
   ]
  },
  {
   "cell_type": "code",
   "execution_count": 62,
   "metadata": {
    "colab": {
     "base_uri": "https://localhost:8080/",
     "height": 424
    },
    "executionInfo": {
     "elapsed": 427,
     "status": "ok",
     "timestamp": 1656352521408,
     "user": {
      "displayName": "Alex Haan",
      "userId": "05701709048639503453"
     },
     "user_tz": 420
    },
    "id": "0LBvecrQTNUL",
    "outputId": "05014c27-8be4-4c4f-84c8-c6ec9ed62577"
   },
   "outputs": [
    {
     "data": {
      "text/html": [
       "\n",
       "  <div id=\"df-ad88c0ef-3b4a-43e0-810d-03ff202193af\">\n",
       "    <div class=\"colab-df-container\">\n",
       "      <div>\n",
       "<style scoped>\n",
       "    .dataframe tbody tr th:only-of-type {\n",
       "        vertical-align: middle;\n",
       "    }\n",
       "\n",
       "    .dataframe tbody tr th {\n",
       "        vertical-align: top;\n",
       "    }\n",
       "\n",
       "    .dataframe thead th {\n",
       "        text-align: right;\n",
       "    }\n",
       "</style>\n",
       "<table border=\"1\" class=\"dataframe\">\n",
       "  <thead>\n",
       "    <tr style=\"text-align: right;\">\n",
       "      <th></th>\n",
       "      <th>Player</th>\n",
       "      <th>Max_Team_Name</th>\n",
       "      <th>Pos</th>\n",
       "      <th>Current_Year</th>\n",
       "    </tr>\n",
       "  </thead>\n",
       "  <tbody>\n",
       "    <tr>\n",
       "      <th>6173</th>\n",
       "      <td>AJ Dillon</td>\n",
       "      <td>Packers</td>\n",
       "      <td>RB</td>\n",
       "      <td>2021.0</td>\n",
       "    </tr>\n",
       "    <tr>\n",
       "      <th>6174</th>\n",
       "      <td>Aaron Jones</td>\n",
       "      <td>Packers</td>\n",
       "      <td>RB</td>\n",
       "      <td>2021.0</td>\n",
       "    </tr>\n",
       "    <tr>\n",
       "      <th>6179</th>\n",
       "      <td>Adrian Killins</td>\n",
       "      <td>Eagles</td>\n",
       "      <td>RB</td>\n",
       "      <td>2021.0</td>\n",
       "    </tr>\n",
       "    <tr>\n",
       "      <th>6180</th>\n",
       "      <td>Adrian Peterson</td>\n",
       "      <td>Lions</td>\n",
       "      <td>RB</td>\n",
       "      <td>2021.0</td>\n",
       "    </tr>\n",
       "    <tr>\n",
       "      <th>6184</th>\n",
       "      <td>Alec Ingold</td>\n",
       "      <td>Raiders</td>\n",
       "      <td>RB</td>\n",
       "      <td>2021.0</td>\n",
       "    </tr>\n",
       "    <tr>\n",
       "      <th>...</th>\n",
       "      <td>...</td>\n",
       "      <td>...</td>\n",
       "      <td>...</td>\n",
       "      <td>...</td>\n",
       "    </tr>\n",
       "    <tr>\n",
       "      <th>6867</th>\n",
       "      <td>Wendell Smallwood</td>\n",
       "      <td>Football Team</td>\n",
       "      <td>RB</td>\n",
       "      <td>2021.0</td>\n",
       "    </tr>\n",
       "    <tr>\n",
       "      <th>6868</th>\n",
       "      <td>Wes Hills</td>\n",
       "      <td>Lions</td>\n",
       "      <td>RB</td>\n",
       "      <td>2021.0</td>\n",
       "    </tr>\n",
       "    <tr>\n",
       "      <th>6875</th>\n",
       "      <td>Zach Line</td>\n",
       "      <td>Saints</td>\n",
       "      <td>RB</td>\n",
       "      <td>2021.0</td>\n",
       "    </tr>\n",
       "    <tr>\n",
       "      <th>6877</th>\n",
       "      <td>Zach Zenner</td>\n",
       "      <td>Lions</td>\n",
       "      <td>RB</td>\n",
       "      <td>2021.0</td>\n",
       "    </tr>\n",
       "    <tr>\n",
       "      <th>6878</th>\n",
       "      <td>Zack Moss</td>\n",
       "      <td>Bills</td>\n",
       "      <td>RB</td>\n",
       "      <td>2021.0</td>\n",
       "    </tr>\n",
       "  </tbody>\n",
       "</table>\n",
       "<p>231 rows × 4 columns</p>\n",
       "</div>\n",
       "      <button class=\"colab-df-convert\" onclick=\"convertToInteractive('df-ad88c0ef-3b4a-43e0-810d-03ff202193af')\"\n",
       "              title=\"Convert this dataframe to an interactive table.\"\n",
       "              style=\"display:none;\">\n",
       "        \n",
       "  <svg xmlns=\"http://www.w3.org/2000/svg\" height=\"24px\"viewBox=\"0 0 24 24\"\n",
       "       width=\"24px\">\n",
       "    <path d=\"M0 0h24v24H0V0z\" fill=\"none\"/>\n",
       "    <path d=\"M18.56 5.44l.94 2.06.94-2.06 2.06-.94-2.06-.94-.94-2.06-.94 2.06-2.06.94zm-11 1L8.5 8.5l.94-2.06 2.06-.94-2.06-.94L8.5 2.5l-.94 2.06-2.06.94zm10 10l.94 2.06.94-2.06 2.06-.94-2.06-.94-.94-2.06-.94 2.06-2.06.94z\"/><path d=\"M17.41 7.96l-1.37-1.37c-.4-.4-.92-.59-1.43-.59-.52 0-1.04.2-1.43.59L10.3 9.45l-7.72 7.72c-.78.78-.78 2.05 0 2.83L4 21.41c.39.39.9.59 1.41.59.51 0 1.02-.2 1.41-.59l7.78-7.78 2.81-2.81c.8-.78.8-2.07 0-2.86zM5.41 20L4 18.59l7.72-7.72 1.47 1.35L5.41 20z\"/>\n",
       "  </svg>\n",
       "      </button>\n",
       "      \n",
       "  <style>\n",
       "    .colab-df-container {\n",
       "      display:flex;\n",
       "      flex-wrap:wrap;\n",
       "      gap: 12px;\n",
       "    }\n",
       "\n",
       "    .colab-df-convert {\n",
       "      background-color: #E8F0FE;\n",
       "      border: none;\n",
       "      border-radius: 50%;\n",
       "      cursor: pointer;\n",
       "      display: none;\n",
       "      fill: #1967D2;\n",
       "      height: 32px;\n",
       "      padding: 0 0 0 0;\n",
       "      width: 32px;\n",
       "    }\n",
       "\n",
       "    .colab-df-convert:hover {\n",
       "      background-color: #E2EBFA;\n",
       "      box-shadow: 0px 1px 2px rgba(60, 64, 67, 0.3), 0px 1px 3px 1px rgba(60, 64, 67, 0.15);\n",
       "      fill: #174EA6;\n",
       "    }\n",
       "\n",
       "    [theme=dark] .colab-df-convert {\n",
       "      background-color: #3B4455;\n",
       "      fill: #D2E3FC;\n",
       "    }\n",
       "\n",
       "    [theme=dark] .colab-df-convert:hover {\n",
       "      background-color: #434B5C;\n",
       "      box-shadow: 0px 1px 3px 1px rgba(0, 0, 0, 0.15);\n",
       "      filter: drop-shadow(0px 1px 2px rgba(0, 0, 0, 0.3));\n",
       "      fill: #FFFFFF;\n",
       "    }\n",
       "  </style>\n",
       "\n",
       "      <script>\n",
       "        const buttonEl =\n",
       "          document.querySelector('#df-ad88c0ef-3b4a-43e0-810d-03ff202193af button.colab-df-convert');\n",
       "        buttonEl.style.display =\n",
       "          google.colab.kernel.accessAllowed ? 'block' : 'none';\n",
       "\n",
       "        async function convertToInteractive(key) {\n",
       "          const element = document.querySelector('#df-ad88c0ef-3b4a-43e0-810d-03ff202193af');\n",
       "          const dataTable =\n",
       "            await google.colab.kernel.invokeFunction('convertToInteractive',\n",
       "                                                     [key], {});\n",
       "          if (!dataTable) return;\n",
       "\n",
       "          const docLinkHtml = 'Like what you see? Visit the ' +\n",
       "            '<a target=\"_blank\" href=https://colab.research.google.com/notebooks/data_table.ipynb>data table notebook</a>'\n",
       "            + ' to learn more about interactive tables.';\n",
       "          element.innerHTML = '';\n",
       "          dataTable['output_type'] = 'display_data';\n",
       "          await google.colab.output.renderOutput(dataTable, element);\n",
       "          const docLink = document.createElement('div');\n",
       "          docLink.innerHTML = docLinkHtml;\n",
       "          element.appendChild(docLink);\n",
       "        }\n",
       "      </script>\n",
       "    </div>\n",
       "  </div>\n",
       "  "
      ],
      "text/plain": [
       "                 Player  Max_Team_Name Pos  Current_Year\n",
       "6173          AJ Dillon        Packers  RB        2021.0\n",
       "6174        Aaron Jones        Packers  RB        2021.0\n",
       "6179     Adrian Killins         Eagles  RB        2021.0\n",
       "6180    Adrian Peterson          Lions  RB        2021.0\n",
       "6184        Alec Ingold        Raiders  RB        2021.0\n",
       "...                 ...            ...  ..           ...\n",
       "6867  Wendell Smallwood  Football Team  RB        2021.0\n",
       "6868          Wes Hills          Lions  RB        2021.0\n",
       "6875          Zach Line         Saints  RB        2021.0\n",
       "6877        Zach Zenner          Lions  RB        2021.0\n",
       "6878          Zack Moss          Bills  RB        2021.0\n",
       "\n",
       "[231 rows x 4 columns]"
      ]
     },
     "execution_count": 62,
     "metadata": {},
     "output_type": "execute_result"
    }
   ],
   "source": [
    "val_players"
   ]
  },
  {
   "cell_type": "code",
   "execution_count": 63,
   "metadata": {
    "executionInfo": {
     "elapsed": 321,
     "status": "ok",
     "timestamp": 1656352524623,
     "user": {
      "displayName": "Alex Haan",
      "userId": "05701709048639503453"
     },
     "user_tz": 420
    },
    "id": "Zedzw9XBQLPz"
   },
   "outputs": [],
   "source": [
    "scaler = StandardScaler()\n",
    "x_train = scaler.fit_transform(x_train)\n",
    "x_test = scaler.transform(x_test)\n",
    "val_x = scaler.transform(val_x)"
   ]
  },
  {
   "cell_type": "code",
   "execution_count": 42,
   "metadata": {
    "executionInfo": {
     "elapsed": 383,
     "status": "ok",
     "timestamp": 1656351800243,
     "user": {
      "displayName": "Alex Haan",
      "userId": "05701709048639503453"
     },
     "user_tz": 420
    },
    "id": "NtAzsnjWP1h2"
   },
   "outputs": [],
   "source": [
    "# Modeling\n",
    "folds = KFold(n_splits = 5, shuffle = True, random_state = 100)\n",
    "\n",
    "random_grid = {'n_estimators': [100, 200, 500],\n",
    "                              'max_features': ['auto', 'sqrt'],\n",
    "                              'max_depth' : [4,5,6,7,8]}\n",
    "                      \n",
    "                      \n",
    "rf = RandomForestRegressor(random_state=420)\n",
    "\n",
    "# define search\n",
    "\n",
    "rf_cv = GridSearchCV(estimator=rf, \n",
    "                    param_grid=random_grid,\n",
    "                    cv = folds,\n",
    "                    scoring='neg_mean_absolute_percentage_error', \n",
    "                    n_jobs=-1)"
   ]
  },
  {
   "cell_type": "code",
   "execution_count": 43,
   "metadata": {
    "executionInfo": {
     "elapsed": 75528,
     "status": "ok",
     "timestamp": 1656351895038,
     "user": {
      "displayName": "Alex Haan",
      "userId": "05701709048639503453"
     },
     "user_tz": 420
    },
    "id": "MhEuCKFQQu86"
   },
   "outputs": [],
   "source": [
    " pred_results = rf_cv.fit(x_train, y_train)"
   ]
  },
  {
   "cell_type": "code",
   "execution_count": 65,
   "metadata": {
    "executionInfo": {
     "elapsed": 334,
     "status": "ok",
     "timestamp": 1656352534078,
     "user": {
      "displayName": "Alex Haan",
      "userId": "05701709048639503453"
     },
     "user_tz": 420
    },
    "id": "TFGgvxgoQ02m"
   },
   "outputs": [],
   "source": [
    "val_pred = pred_results.predict(val_x)"
   ]
  },
  {
   "cell_type": "code",
   "execution_count": 66,
   "metadata": {
    "executionInfo": {
     "elapsed": 6,
     "status": "ok",
     "timestamp": 1656352536510,
     "user": {
      "displayName": "Alex Haan",
      "userId": "05701709048639503453"
     },
     "user_tz": 420
    },
    "id": "cYydUbW-R60f"
   },
   "outputs": [],
   "source": [
    "rf_results = pd.DataFrame(val_players)\n",
    "rf_results['y'] = val_y\n",
    "rf_results['y_hat'] = val_pred"
   ]
  },
  {
   "cell_type": "code",
   "execution_count": 71,
   "metadata": {
    "executionInfo": {
     "elapsed": 338,
     "status": "ok",
     "timestamp": 1656352718492,
     "user": {
      "displayName": "Alex Haan",
      "userId": "05701709048639503453"
     },
     "user_tz": 420
    },
    "id": "hH2fYqiISbvZ"
   },
   "outputs": [],
   "source": [
    "data = list(zip(x_data.columns, rf_cv.best_estimator_.feature_importances_))"
   ]
  },
  {
   "cell_type": "code",
   "execution_count": null,
   "metadata": {
    "id": "9kR9FjyESFXU"
   },
   "outputs": [],
   "source": [
    "rf_results.sort_values('y_hat',ascending=False)"
   ]
  },
  {
   "cell_type": "code",
   "execution_count": 75,
   "metadata": {
    "colab": {
     "base_uri": "https://localhost:8080/",
     "height": 376
    },
    "executionInfo": {
     "elapsed": 729,
     "status": "error",
     "timestamp": 1656353284693,
     "user": {
      "displayName": "Alex Haan",
      "userId": "05701709048639503453"
     },
     "user_tz": 420
    },
    "id": "wnybi9EnVgyf",
    "outputId": "4ff83a9d-62ef-4e11-d0b7-c311e65645ea"
   },
   "outputs": [
    {
     "ename": "ValueError",
     "evalue": "ignored",
     "output_type": "error",
     "traceback": [
      "\u001b[0;31m---------------------------------------------------------------------------\u001b[0m",
      "\u001b[0;31mValueError\u001b[0m                                Traceback (most recent call last)",
      "\u001b[0;32m<ipython-input-75-64f551724841>\u001b[0m in \u001b[0;36m<module>\u001b[0;34m()\u001b[0m\n\u001b[1;32m     18\u001b[0m \u001b[0;34m\u001b[0m\u001b[0m\n\u001b[1;32m     19\u001b[0m \u001b[0;34m\u001b[0m\u001b[0m\n\u001b[0;32m---> 20\u001b[0;31m \u001b[0mCV_rfc\u001b[0m\u001b[0;34m.\u001b[0m\u001b[0mfit\u001b[0m\u001b[0;34m(\u001b[0m\u001b[0mx_train\u001b[0m\u001b[0;34m,\u001b[0m \u001b[0my_train\u001b[0m\u001b[0;34m)\u001b[0m\u001b[0;34m\u001b[0m\u001b[0;34m\u001b[0m\u001b[0m\n\u001b[0m",
      "\u001b[0;32m/usr/local/lib/python3.7/dist-packages/sklearn/model_selection/_search.py\u001b[0m in \u001b[0;36mfit\u001b[0;34m(self, X, y, groups, **fit_params)\u001b[0m\n\u001b[1;32m    889\u001b[0m                 \u001b[0;32mreturn\u001b[0m \u001b[0mresults\u001b[0m\u001b[0;34m\u001b[0m\u001b[0;34m\u001b[0m\u001b[0m\n\u001b[1;32m    890\u001b[0m \u001b[0;34m\u001b[0m\u001b[0m\n\u001b[0;32m--> 891\u001b[0;31m             \u001b[0mself\u001b[0m\u001b[0;34m.\u001b[0m\u001b[0m_run_search\u001b[0m\u001b[0;34m(\u001b[0m\u001b[0mevaluate_candidates\u001b[0m\u001b[0;34m)\u001b[0m\u001b[0;34m\u001b[0m\u001b[0;34m\u001b[0m\u001b[0m\n\u001b[0m\u001b[1;32m    892\u001b[0m \u001b[0;34m\u001b[0m\u001b[0m\n\u001b[1;32m    893\u001b[0m             \u001b[0;31m# multimetric is determined here because in the case of a callable\u001b[0m\u001b[0;34m\u001b[0m\u001b[0;34m\u001b[0m\u001b[0;34m\u001b[0m\u001b[0m\n",
      "\u001b[0;32m/usr/local/lib/python3.7/dist-packages/sklearn/model_selection/_search.py\u001b[0m in \u001b[0;36m_run_search\u001b[0;34m(self, evaluate_candidates)\u001b[0m\n\u001b[1;32m   1390\u001b[0m     \u001b[0;32mdef\u001b[0m \u001b[0m_run_search\u001b[0m\u001b[0;34m(\u001b[0m\u001b[0mself\u001b[0m\u001b[0;34m,\u001b[0m \u001b[0mevaluate_candidates\u001b[0m\u001b[0;34m)\u001b[0m\u001b[0;34m:\u001b[0m\u001b[0;34m\u001b[0m\u001b[0;34m\u001b[0m\u001b[0m\n\u001b[1;32m   1391\u001b[0m         \u001b[0;34m\"\"\"Search all candidates in param_grid\"\"\"\u001b[0m\u001b[0;34m\u001b[0m\u001b[0;34m\u001b[0m\u001b[0m\n\u001b[0;32m-> 1392\u001b[0;31m         \u001b[0mevaluate_candidates\u001b[0m\u001b[0;34m(\u001b[0m\u001b[0mParameterGrid\u001b[0m\u001b[0;34m(\u001b[0m\u001b[0mself\u001b[0m\u001b[0;34m.\u001b[0m\u001b[0mparam_grid\u001b[0m\u001b[0;34m)\u001b[0m\u001b[0;34m)\u001b[0m\u001b[0;34m\u001b[0m\u001b[0;34m\u001b[0m\u001b[0m\n\u001b[0m\u001b[1;32m   1393\u001b[0m \u001b[0;34m\u001b[0m\u001b[0m\n\u001b[1;32m   1394\u001b[0m \u001b[0;34m\u001b[0m\u001b[0m\n",
      "\u001b[0;32m/usr/local/lib/python3.7/dist-packages/sklearn/model_selection/_search.py\u001b[0m in \u001b[0;36mevaluate_candidates\u001b[0;34m(candidate_params, cv, more_results)\u001b[0m\n\u001b[1;32m    849\u001b[0m                     )\n\u001b[1;32m    850\u001b[0m                     for (cand_idx, parameters), (split_idx, (train, test)) in product(\n\u001b[0;32m--> 851\u001b[0;31m                         \u001b[0menumerate\u001b[0m\u001b[0;34m(\u001b[0m\u001b[0mcandidate_params\u001b[0m\u001b[0;34m)\u001b[0m\u001b[0;34m,\u001b[0m \u001b[0menumerate\u001b[0m\u001b[0;34m(\u001b[0m\u001b[0mcv\u001b[0m\u001b[0;34m.\u001b[0m\u001b[0msplit\u001b[0m\u001b[0;34m(\u001b[0m\u001b[0mX\u001b[0m\u001b[0;34m,\u001b[0m \u001b[0my\u001b[0m\u001b[0;34m,\u001b[0m \u001b[0mgroups\u001b[0m\u001b[0;34m)\u001b[0m\u001b[0;34m)\u001b[0m\u001b[0;34m\u001b[0m\u001b[0;34m\u001b[0m\u001b[0m\n\u001b[0m\u001b[1;32m    852\u001b[0m                     )\n\u001b[1;32m    853\u001b[0m                 )\n",
      "\u001b[0;32m/usr/local/lib/python3.7/dist-packages/joblib/parallel.py\u001b[0m in \u001b[0;36m__call__\u001b[0;34m(self, iterable)\u001b[0m\n\u001b[1;32m   1041\u001b[0m             \u001b[0;31m# remaining jobs.\u001b[0m\u001b[0;34m\u001b[0m\u001b[0;34m\u001b[0m\u001b[0;34m\u001b[0m\u001b[0m\n\u001b[1;32m   1042\u001b[0m             \u001b[0mself\u001b[0m\u001b[0;34m.\u001b[0m\u001b[0m_iterating\u001b[0m \u001b[0;34m=\u001b[0m \u001b[0;32mFalse\u001b[0m\u001b[0;34m\u001b[0m\u001b[0;34m\u001b[0m\u001b[0m\n\u001b[0;32m-> 1043\u001b[0;31m             \u001b[0;32mif\u001b[0m \u001b[0mself\u001b[0m\u001b[0;34m.\u001b[0m\u001b[0mdispatch_one_batch\u001b[0m\u001b[0;34m(\u001b[0m\u001b[0miterator\u001b[0m\u001b[0;34m)\u001b[0m\u001b[0;34m:\u001b[0m\u001b[0;34m\u001b[0m\u001b[0;34m\u001b[0m\u001b[0m\n\u001b[0m\u001b[1;32m   1044\u001b[0m                 \u001b[0mself\u001b[0m\u001b[0;34m.\u001b[0m\u001b[0m_iterating\u001b[0m \u001b[0;34m=\u001b[0m \u001b[0mself\u001b[0m\u001b[0;34m.\u001b[0m\u001b[0m_original_iterator\u001b[0m \u001b[0;32mis\u001b[0m \u001b[0;32mnot\u001b[0m \u001b[0;32mNone\u001b[0m\u001b[0;34m\u001b[0m\u001b[0;34m\u001b[0m\u001b[0m\n\u001b[1;32m   1045\u001b[0m \u001b[0;34m\u001b[0m\u001b[0m\n",
      "\u001b[0;32m/usr/local/lib/python3.7/dist-packages/joblib/parallel.py\u001b[0m in \u001b[0;36mdispatch_one_batch\u001b[0;34m(self, iterator)\u001b[0m\n\u001b[1;32m    859\u001b[0m                 \u001b[0;32mreturn\u001b[0m \u001b[0;32mFalse\u001b[0m\u001b[0;34m\u001b[0m\u001b[0;34m\u001b[0m\u001b[0m\n\u001b[1;32m    860\u001b[0m             \u001b[0;32melse\u001b[0m\u001b[0;34m:\u001b[0m\u001b[0;34m\u001b[0m\u001b[0;34m\u001b[0m\u001b[0m\n\u001b[0;32m--> 861\u001b[0;31m                 \u001b[0mself\u001b[0m\u001b[0;34m.\u001b[0m\u001b[0m_dispatch\u001b[0m\u001b[0;34m(\u001b[0m\u001b[0mtasks\u001b[0m\u001b[0;34m)\u001b[0m\u001b[0;34m\u001b[0m\u001b[0;34m\u001b[0m\u001b[0m\n\u001b[0m\u001b[1;32m    862\u001b[0m                 \u001b[0;32mreturn\u001b[0m \u001b[0;32mTrue\u001b[0m\u001b[0;34m\u001b[0m\u001b[0;34m\u001b[0m\u001b[0m\n\u001b[1;32m    863\u001b[0m \u001b[0;34m\u001b[0m\u001b[0m\n",
      "\u001b[0;32m/usr/local/lib/python3.7/dist-packages/joblib/parallel.py\u001b[0m in \u001b[0;36m_dispatch\u001b[0;34m(self, batch)\u001b[0m\n\u001b[1;32m    777\u001b[0m         \u001b[0;32mwith\u001b[0m \u001b[0mself\u001b[0m\u001b[0;34m.\u001b[0m\u001b[0m_lock\u001b[0m\u001b[0;34m:\u001b[0m\u001b[0;34m\u001b[0m\u001b[0;34m\u001b[0m\u001b[0m\n\u001b[1;32m    778\u001b[0m             \u001b[0mjob_idx\u001b[0m \u001b[0;34m=\u001b[0m \u001b[0mlen\u001b[0m\u001b[0;34m(\u001b[0m\u001b[0mself\u001b[0m\u001b[0;34m.\u001b[0m\u001b[0m_jobs\u001b[0m\u001b[0;34m)\u001b[0m\u001b[0;34m\u001b[0m\u001b[0;34m\u001b[0m\u001b[0m\n\u001b[0;32m--> 779\u001b[0;31m             \u001b[0mjob\u001b[0m \u001b[0;34m=\u001b[0m \u001b[0mself\u001b[0m\u001b[0;34m.\u001b[0m\u001b[0m_backend\u001b[0m\u001b[0;34m.\u001b[0m\u001b[0mapply_async\u001b[0m\u001b[0;34m(\u001b[0m\u001b[0mbatch\u001b[0m\u001b[0;34m,\u001b[0m \u001b[0mcallback\u001b[0m\u001b[0;34m=\u001b[0m\u001b[0mcb\u001b[0m\u001b[0;34m)\u001b[0m\u001b[0;34m\u001b[0m\u001b[0;34m\u001b[0m\u001b[0m\n\u001b[0m\u001b[1;32m    780\u001b[0m             \u001b[0;31m# A job can complete so quickly than its callback is\u001b[0m\u001b[0;34m\u001b[0m\u001b[0;34m\u001b[0m\u001b[0;34m\u001b[0m\u001b[0m\n\u001b[1;32m    781\u001b[0m             \u001b[0;31m# called before we get here, causing self._jobs to\u001b[0m\u001b[0;34m\u001b[0m\u001b[0;34m\u001b[0m\u001b[0;34m\u001b[0m\u001b[0m\n",
      "\u001b[0;32m/usr/local/lib/python3.7/dist-packages/joblib/_parallel_backends.py\u001b[0m in \u001b[0;36mapply_async\u001b[0;34m(self, func, callback)\u001b[0m\n\u001b[1;32m    206\u001b[0m     \u001b[0;32mdef\u001b[0m \u001b[0mapply_async\u001b[0m\u001b[0;34m(\u001b[0m\u001b[0mself\u001b[0m\u001b[0;34m,\u001b[0m \u001b[0mfunc\u001b[0m\u001b[0;34m,\u001b[0m \u001b[0mcallback\u001b[0m\u001b[0;34m=\u001b[0m\u001b[0;32mNone\u001b[0m\u001b[0;34m)\u001b[0m\u001b[0;34m:\u001b[0m\u001b[0;34m\u001b[0m\u001b[0;34m\u001b[0m\u001b[0m\n\u001b[1;32m    207\u001b[0m         \u001b[0;34m\"\"\"Schedule a func to be run\"\"\"\u001b[0m\u001b[0;34m\u001b[0m\u001b[0;34m\u001b[0m\u001b[0m\n\u001b[0;32m--> 208\u001b[0;31m         \u001b[0mresult\u001b[0m \u001b[0;34m=\u001b[0m \u001b[0mImmediateResult\u001b[0m\u001b[0;34m(\u001b[0m\u001b[0mfunc\u001b[0m\u001b[0;34m)\u001b[0m\u001b[0;34m\u001b[0m\u001b[0;34m\u001b[0m\u001b[0m\n\u001b[0m\u001b[1;32m    209\u001b[0m         \u001b[0;32mif\u001b[0m \u001b[0mcallback\u001b[0m\u001b[0;34m:\u001b[0m\u001b[0;34m\u001b[0m\u001b[0;34m\u001b[0m\u001b[0m\n\u001b[1;32m    210\u001b[0m             \u001b[0mcallback\u001b[0m\u001b[0;34m(\u001b[0m\u001b[0mresult\u001b[0m\u001b[0;34m)\u001b[0m\u001b[0;34m\u001b[0m\u001b[0;34m\u001b[0m\u001b[0m\n",
      "\u001b[0;32m/usr/local/lib/python3.7/dist-packages/joblib/_parallel_backends.py\u001b[0m in \u001b[0;36m__init__\u001b[0;34m(self, batch)\u001b[0m\n\u001b[1;32m    570\u001b[0m         \u001b[0;31m# Don't delay the application, to avoid keeping the input\u001b[0m\u001b[0;34m\u001b[0m\u001b[0;34m\u001b[0m\u001b[0;34m\u001b[0m\u001b[0m\n\u001b[1;32m    571\u001b[0m         \u001b[0;31m# arguments in memory\u001b[0m\u001b[0;34m\u001b[0m\u001b[0;34m\u001b[0m\u001b[0;34m\u001b[0m\u001b[0m\n\u001b[0;32m--> 572\u001b[0;31m         \u001b[0mself\u001b[0m\u001b[0;34m.\u001b[0m\u001b[0mresults\u001b[0m \u001b[0;34m=\u001b[0m \u001b[0mbatch\u001b[0m\u001b[0;34m(\u001b[0m\u001b[0;34m)\u001b[0m\u001b[0;34m\u001b[0m\u001b[0;34m\u001b[0m\u001b[0m\n\u001b[0m\u001b[1;32m    573\u001b[0m \u001b[0;34m\u001b[0m\u001b[0m\n\u001b[1;32m    574\u001b[0m     \u001b[0;32mdef\u001b[0m \u001b[0mget\u001b[0m\u001b[0;34m(\u001b[0m\u001b[0mself\u001b[0m\u001b[0;34m)\u001b[0m\u001b[0;34m:\u001b[0m\u001b[0;34m\u001b[0m\u001b[0;34m\u001b[0m\u001b[0m\n",
      "\u001b[0;32m/usr/local/lib/python3.7/dist-packages/joblib/parallel.py\u001b[0m in \u001b[0;36m__call__\u001b[0;34m(self)\u001b[0m\n\u001b[1;32m    261\u001b[0m         \u001b[0;32mwith\u001b[0m \u001b[0mparallel_backend\u001b[0m\u001b[0;34m(\u001b[0m\u001b[0mself\u001b[0m\u001b[0;34m.\u001b[0m\u001b[0m_backend\u001b[0m\u001b[0;34m,\u001b[0m \u001b[0mn_jobs\u001b[0m\u001b[0;34m=\u001b[0m\u001b[0mself\u001b[0m\u001b[0;34m.\u001b[0m\u001b[0m_n_jobs\u001b[0m\u001b[0;34m)\u001b[0m\u001b[0;34m:\u001b[0m\u001b[0;34m\u001b[0m\u001b[0;34m\u001b[0m\u001b[0m\n\u001b[1;32m    262\u001b[0m             return [func(*args, **kwargs)\n\u001b[0;32m--> 263\u001b[0;31m                     for func, args, kwargs in self.items]\n\u001b[0m\u001b[1;32m    264\u001b[0m \u001b[0;34m\u001b[0m\u001b[0m\n\u001b[1;32m    265\u001b[0m     \u001b[0;32mdef\u001b[0m \u001b[0m__reduce__\u001b[0m\u001b[0;34m(\u001b[0m\u001b[0mself\u001b[0m\u001b[0;34m)\u001b[0m\u001b[0;34m:\u001b[0m\u001b[0;34m\u001b[0m\u001b[0;34m\u001b[0m\u001b[0m\n",
      "\u001b[0;32m/usr/local/lib/python3.7/dist-packages/joblib/parallel.py\u001b[0m in \u001b[0;36m<listcomp>\u001b[0;34m(.0)\u001b[0m\n\u001b[1;32m    261\u001b[0m         \u001b[0;32mwith\u001b[0m \u001b[0mparallel_backend\u001b[0m\u001b[0;34m(\u001b[0m\u001b[0mself\u001b[0m\u001b[0;34m.\u001b[0m\u001b[0m_backend\u001b[0m\u001b[0;34m,\u001b[0m \u001b[0mn_jobs\u001b[0m\u001b[0;34m=\u001b[0m\u001b[0mself\u001b[0m\u001b[0;34m.\u001b[0m\u001b[0m_n_jobs\u001b[0m\u001b[0;34m)\u001b[0m\u001b[0;34m:\u001b[0m\u001b[0;34m\u001b[0m\u001b[0;34m\u001b[0m\u001b[0m\n\u001b[1;32m    262\u001b[0m             return [func(*args, **kwargs)\n\u001b[0;32m--> 263\u001b[0;31m                     for func, args, kwargs in self.items]\n\u001b[0m\u001b[1;32m    264\u001b[0m \u001b[0;34m\u001b[0m\u001b[0m\n\u001b[1;32m    265\u001b[0m     \u001b[0;32mdef\u001b[0m \u001b[0m__reduce__\u001b[0m\u001b[0;34m(\u001b[0m\u001b[0mself\u001b[0m\u001b[0;34m)\u001b[0m\u001b[0;34m:\u001b[0m\u001b[0;34m\u001b[0m\u001b[0;34m\u001b[0m\u001b[0m\n",
      "\u001b[0;32m/usr/local/lib/python3.7/dist-packages/sklearn/utils/fixes.py\u001b[0m in \u001b[0;36m__call__\u001b[0;34m(self, *args, **kwargs)\u001b[0m\n\u001b[1;32m    214\u001b[0m     \u001b[0;32mdef\u001b[0m \u001b[0m__call__\u001b[0m\u001b[0;34m(\u001b[0m\u001b[0mself\u001b[0m\u001b[0;34m,\u001b[0m \u001b[0;34m*\u001b[0m\u001b[0margs\u001b[0m\u001b[0;34m,\u001b[0m \u001b[0;34m**\u001b[0m\u001b[0mkwargs\u001b[0m\u001b[0;34m)\u001b[0m\u001b[0;34m:\u001b[0m\u001b[0;34m\u001b[0m\u001b[0;34m\u001b[0m\u001b[0m\n\u001b[1;32m    215\u001b[0m         \u001b[0;32mwith\u001b[0m \u001b[0mconfig_context\u001b[0m\u001b[0;34m(\u001b[0m\u001b[0;34m**\u001b[0m\u001b[0mself\u001b[0m\u001b[0;34m.\u001b[0m\u001b[0mconfig\u001b[0m\u001b[0;34m)\u001b[0m\u001b[0;34m:\u001b[0m\u001b[0;34m\u001b[0m\u001b[0;34m\u001b[0m\u001b[0m\n\u001b[0;32m--> 216\u001b[0;31m             \u001b[0;32mreturn\u001b[0m \u001b[0mself\u001b[0m\u001b[0;34m.\u001b[0m\u001b[0mfunction\u001b[0m\u001b[0;34m(\u001b[0m\u001b[0;34m*\u001b[0m\u001b[0margs\u001b[0m\u001b[0;34m,\u001b[0m \u001b[0;34m**\u001b[0m\u001b[0mkwargs\u001b[0m\u001b[0;34m)\u001b[0m\u001b[0;34m\u001b[0m\u001b[0;34m\u001b[0m\u001b[0m\n\u001b[0m\u001b[1;32m    217\u001b[0m \u001b[0;34m\u001b[0m\u001b[0m\n\u001b[1;32m    218\u001b[0m \u001b[0;34m\u001b[0m\u001b[0m\n",
      "\u001b[0;32m/usr/local/lib/python3.7/dist-packages/sklearn/model_selection/_validation.py\u001b[0m in \u001b[0;36m_fit_and_score\u001b[0;34m(estimator, X, y, scorer, train, test, verbose, parameters, fit_params, return_train_score, return_parameters, return_n_test_samples, return_times, return_estimator, split_progress, candidate_progress, error_score)\u001b[0m\n\u001b[1;32m    666\u001b[0m             \u001b[0mcloned_parameters\u001b[0m\u001b[0;34m[\u001b[0m\u001b[0mk\u001b[0m\u001b[0;34m]\u001b[0m \u001b[0;34m=\u001b[0m \u001b[0mclone\u001b[0m\u001b[0;34m(\u001b[0m\u001b[0mv\u001b[0m\u001b[0;34m,\u001b[0m \u001b[0msafe\u001b[0m\u001b[0;34m=\u001b[0m\u001b[0;32mFalse\u001b[0m\u001b[0;34m)\u001b[0m\u001b[0;34m\u001b[0m\u001b[0;34m\u001b[0m\u001b[0m\n\u001b[1;32m    667\u001b[0m \u001b[0;34m\u001b[0m\u001b[0m\n\u001b[0;32m--> 668\u001b[0;31m         \u001b[0mestimator\u001b[0m \u001b[0;34m=\u001b[0m \u001b[0mestimator\u001b[0m\u001b[0;34m.\u001b[0m\u001b[0mset_params\u001b[0m\u001b[0;34m(\u001b[0m\u001b[0;34m**\u001b[0m\u001b[0mcloned_parameters\u001b[0m\u001b[0;34m)\u001b[0m\u001b[0;34m\u001b[0m\u001b[0;34m\u001b[0m\u001b[0m\n\u001b[0m\u001b[1;32m    669\u001b[0m \u001b[0;34m\u001b[0m\u001b[0m\n\u001b[1;32m    670\u001b[0m     \u001b[0mstart_time\u001b[0m \u001b[0;34m=\u001b[0m \u001b[0mtime\u001b[0m\u001b[0;34m.\u001b[0m\u001b[0mtime\u001b[0m\u001b[0;34m(\u001b[0m\u001b[0;34m)\u001b[0m\u001b[0;34m\u001b[0m\u001b[0;34m\u001b[0m\u001b[0m\n",
      "\u001b[0;32m/usr/local/lib/python3.7/dist-packages/sklearn/base.py\u001b[0m in \u001b[0;36mset_params\u001b[0;34m(self, **params)\u001b[0m\n\u001b[1;32m    246\u001b[0m                     \u001b[0;34m\"Invalid parameter %s for estimator %s. \"\u001b[0m\u001b[0;34m\u001b[0m\u001b[0;34m\u001b[0m\u001b[0m\n\u001b[1;32m    247\u001b[0m                     \u001b[0;34m\"Check the list of available parameters \"\u001b[0m\u001b[0;34m\u001b[0m\u001b[0;34m\u001b[0m\u001b[0m\n\u001b[0;32m--> 248\u001b[0;31m                     \u001b[0;34m\"with `estimator.get_params().keys()`.\"\u001b[0m \u001b[0;34m%\u001b[0m \u001b[0;34m(\u001b[0m\u001b[0mkey\u001b[0m\u001b[0;34m,\u001b[0m \u001b[0mself\u001b[0m\u001b[0;34m)\u001b[0m\u001b[0;34m\u001b[0m\u001b[0;34m\u001b[0m\u001b[0m\n\u001b[0m\u001b[1;32m    249\u001b[0m                 )\n\u001b[1;32m    250\u001b[0m \u001b[0;34m\u001b[0m\u001b[0m\n",
      "\u001b[0;31mValueError\u001b[0m: Invalid parameter max_depth for estimator RFECV(cv=StratifiedKFold(n_splits=10, random_state=None, shuffle=False),\n      estimator=RandomForestRegressor(random_state=420), scoring='r2'). Check the list of available parameters with `estimator.get_params().keys()`."
     ]
    }
   ],
   "source": [
    "from sklearn.feature_selection import RFECV\n",
    "from sklearn.model_selection import StratifiedKFold\n",
    "\n",
    "\n",
    "clf = RandomForestRegressor(random_state=420)\n",
    "rfecv = RFECV(estimator=clf, step=1, cv=StratifiedKFold(10), scoring='r2')\n",
    "\n",
    "param_grid = {'n_estimators': [100, 200, 500],\n",
    "                              'max_features': ['auto', 'sqrt'],\n",
    "                              'max_depth' : [4,5,6,7,8]}\n",
    "k_fold = StratifiedKFold(n_splits=10, shuffle=True, random_state=0)\n",
    "\n",
    "\n",
    "\n",
    "# define search\n",
    "\n",
    "CV_rfc = GridSearchCV(estimator=rfecv, param_grid=param_grid, cv= folds, scoring = 'r2')\n",
    "\n",
    "\n",
    "CV_rfc.fit(x_train, y_train)"
   ]
  },
  {
   "cell_type": "code",
   "execution_count": null,
   "metadata": {
    "id": "HrDdBX9k9s_f"
   },
   "outputs": [],
   "source": [
    "def run_models_FINAL(pos, save, metric):\n",
    "    \n",
    "    print('Pulling data')\n",
    "\n",
    "    metric_list = [metric]#['Avg','Sum']\n",
    "\n",
    "    final_results = pd.DataFrame()\n",
    "    prediction_results = pd.DataFrame()\n",
    "    preds_2022_results = pd.DataFrame()\n",
    "    for metric in metric_list:\n",
    "\n",
    "      # Get cutoffs\n",
    "      points_df = pd.read_excel(\"/content/gdrive/MyDrive/DVA Project/Data/player_plus_team.xlsx\")\n",
    "     \n",
    "      if metric == 'Avg':\n",
    "          points = points_df['Avg_PPRFantasyPoints']\n",
    "          points_players = points_df.iloc[:, 1:5]\n",
    "          points_players['y'] = points\n",
    "      else:\n",
    "          #points = pd.read_csv(\"/content/gdrive/MyDrive/DVA Project/Data/player_plus_team.csv\")\n",
    "\n",
    "          points = points_df['Sum_PPRFantasyPoints']\n",
    "          points_players = points_df.iloc[:, 1:5]\n",
    "          points_players['y'] = points\n",
    "\n",
    "      dict_12 = {}\n",
    "      dict_24_36 = {}\n",
    "      # dict_36 = {}\n",
    "      year_list = points_players['Year'].unique()\n",
    "      pos_list = ['RB','WR','TE','QB']\n",
    "\n",
    "      for pos_loop in pos_list:\n",
    "          list_12 = []\n",
    "          list_24 = []\n",
    "          list_36 = []\n",
    "          for year in year_list:\n",
    "          \n",
    "              df = points_players.query(f\"Year == {year} and Pos == '{pos_loop}'\")\n",
    "              df = df.sort_values('y', ascending=False)    \n",
    "              top_12 = df.iloc[0:12, -1].min()\n",
    "              top_24 = df.iloc[0:24, -1].min()\n",
    "              top_36 = df.iloc[0:36, -1].min()\n",
    "              list_12.append(top_12)\n",
    "              list_24.append(top_24)\n",
    "              list_36.append(top_36)\n",
    "              \n",
    "          avg_12 = np.mean(list_12)\n",
    "          avg_24 = np.mean(list_24)\n",
    "          avg_36 = np.mean(list_36)\n",
    "          \n",
    "          dict_12[pos_loop] = avg_12\n",
    "          if pos_loop == 'RB' or pos_loop == 'WR':\n",
    "            dict_24_36[pos_loop] = avg_36\n",
    "          else:\n",
    "            dict_24_36[pos_loop] = avg_24\n",
    "\n",
    "      metric_clean = metric\n",
    "\n",
    "      if metric == 'Avg':\n",
    "          \n",
    "          metric = 'Avg_Points'\n",
    "          \n",
    "          points_df = pd.read_excel(\"/content/gdrive/MyDrive/DVA Project/Data/player_plus_team.xlsx\")\n",
    "          points = points_df['Avg_PPRFantasyPoints']\n",
    "          points_players = points_df.iloc[:, 1:5]\n",
    "          points_players['Avg_Points'] = points\n",
    "          \n",
    "          # Read in Data\n",
    "          #data_original = pd.read_excel(\"/content/gdrive/MyDrive/DVA Project/Data/Pivoted_Data/pivoted_player_plus_team_data_ZEROS_Resp.xlsx\")\n",
    "          data_original = pd.read_excel('/content/gdrive/MyDrive/DVA Project/Data/pivoted_player_plus_team_data.xlsx', index_col=[0])\n",
    "\n",
    "          \n",
    "          # Join with Data\n",
    "          data_full = data_original.merge(points_players, left_on=['Player','Current_Year','Pos', 'Max_Team_Name'], right_on=['Player','Year','Pos', 'Team_Name'], how='left', suffixes=('', '_DROP')).filter(regex='^(?!.*_DROP)')\n",
    "          #data_full = data_full.drop(columns={'RESPONSE_Sum_PPRFantasyPoints', 'Team_Name', 'Year'}, axis=1)\n",
    "          data_full = data_full.drop(columns={'Team_Name', 'Year'}, axis=1)\n",
    "          data_full = data_full[data_full['Pos'] == pos]\n",
    "\n",
    "          cutoff_val_list = [0,4,6,9]\n",
    "          \n",
    "      \n",
    "      else:\n",
    "          metric_clean = 'Sum'\n",
    "          metric = 'Sum_Points'\n",
    "\n",
    "          ###################### Temp:\n",
    "          points_df = pd.read_excel(\"/content/gdrive/MyDrive/DVA Project/Data/player_plus_team.xlsx\")\n",
    "          points = points_df['Sum_PPRFantasyPoints']\n",
    "          points_players = points_df.iloc[:, 1:5]\n",
    "          points_players['Sum_Points'] = points\n",
    "          \n",
    "          # Read in Data\n",
    "          data_original = pd.read_excel('/content/gdrive/MyDrive/DVA Project/Data/pivoted_player_plus_team_data.xlsx', index_col=[0])\n",
    "          \n",
    "          # Join with Data\n",
    "          data_full = data_original.merge(points_players, left_on=['Player','Current_Year','Pos', 'Max_Team_Name'], right_on=['Player','Year','Pos', 'Team_Name'], how='left', suffixes=('', '_DROP')).filter(regex='^(?!.*_DROP)')\n",
    "          data_full = data_full.drop(columns={'Team_Name', 'Year'}, axis=1)\n",
    "          data_full = data_full[data_full['Pos'] == pos]\n",
    "\n",
    "\n",
    "          #############\n",
    "\n",
    "          \n",
    "          if pos == 'TE':\n",
    "            cutoff_val_list = [0]#, 50,100]\n",
    "          else:\n",
    "            cutoff_val_list = [0]#, 50,100]\n",
    "\n",
    "\n",
    "      pca_list = [None, 25, 50]\n",
    "      boxcox_list = [True, False]\n",
    "      cooks_list = [True, False]\n",
    "      model_list = ['RF','EN', 'NN']#'XG']\n",
    "      scorer_list = [False]\n",
    "      one_year_list = [1, 2]\n",
    "\n",
    "\n",
    "\n",
    "      \n",
    "          \n",
    "          \n",
    "      # def my_custom_loss_func(y, y_hat):\n",
    "      \n",
    "      #     model_results = pd.DataFrame()\n",
    "      #     model_results['y'] = y\n",
    "      #     model_results['y_hat'] = y_hat\n",
    "\n",
    "      #     # Rank\n",
    "      #     #model_results = model_results.sort_values('y', ascending=False)\n",
    "      #     model_results = model_results.sort_values('y_hat', ascending=False)\n",
    "      #     model_results['Rank'] = model_results.reset_index().index \n",
    "      #     model_results['Rank'] = model_results['Rank'] + 1\n",
    "      #     model_results['Weight'] = 0\n",
    "      #     model_results['Weight'].iloc[0:5] = 1\n",
    "      #     model_results['Weight'].iloc[5:10] = 2\n",
    "      #     model_results['Weight'].iloc[10:15] = 4\n",
    "      #     model_results['Weight'].iloc[15:20] = 8\n",
    "      #     model_results['Weight'].iloc[20:] = 16\n",
    "          \n",
    "      #     # NDCG Rank\n",
    "      #     model_results['Diff'] = model_results['y'] - model_results['y_hat']\n",
    "      #     model_results['Points_metric'] = model_results.apply(lambda x: np.abs(x['Diff']) / np.log10(x['Weight'] + 1), axis=1)\n",
    "\n",
    "      #     # Filter to create top and bottom\n",
    "      #     bottom_cutoff = int(len(model_results)*.25)\n",
    "      #     bottom = model_results.iloc[0:bottom_cutoff, :]\n",
    "\n",
    "      #     rank = np.sum(bottom['Points_metric'])\n",
    "      #     return rank\n",
    "\n",
    "\n",
    "      # scorer = make_scorer(my_custom_loss_func, greater_is_better=False)\n",
    "      \n",
    "      def top_50_df(model_results, top_50, test, pos, dict_12, dict_24_36):\n",
    "          \n",
    "          if test:\n",
    "          \n",
    "              model_results = model_results.sort_values('y',ascending=False)\n",
    "             \n",
    "              model_results['Rank'] = model_results.reset_index().index \n",
    "              model_results['Rank'] = model_results['Rank'] + 1\n",
    "\n",
    "              model_results = model_results.sort_values('y_hat',ascending=False)\n",
    "              model_results['Weight'] = 0\n",
    "              model_results['Weight'].iloc[0:5] = 2 #1\n",
    "              model_results['Weight'].iloc[5:10] = 2\n",
    "              model_results['Weight'].iloc[10:15] = 4\n",
    "              model_results['Weight'].iloc[15:20] = 8\n",
    "              model_results['Weight'].iloc[20:] = 16\n",
    "              #model_results = model_results.sort_values('y_hat',ascending=False)\n",
    "              #model_results = model_results.sort_values('y',ascending=False)\n",
    "              model_results['Rank_pred'] = model_results.reset_index().index \n",
    "              model_results['Rank_pred'] = model_results['Rank_pred'] + 1\n",
    "              # model_results['Weight'] = 0\n",
    "              # model_results['Weight'].iloc[0:5] = 1\n",
    "              # model_results['Weight'].iloc[5:10] = 2\n",
    "              # model_results['Weight'].iloc[10:15] = 4\n",
    "              # model_results['Weight'].iloc[15:20] = 8\n",
    "              # model_results['Weight'].iloc[20:] = 16\n",
    "\n",
    "              \n",
    "              # join for Comparison\n",
    "              top = model_results\n",
    "              \n",
    "              top = top[top['y'] > dict_12[pos]]\n",
    "              top['Diff'] = top['Rank'] - top['Rank_pred']\n",
    "              #top = top.sort_values('y',ascending=False)\n",
    "              top = top.sort_values('y_hat',ascending=False)\n",
    "              top['rank_metric'] = top.apply(lambda x: np.abs(x['Diff']) / np.log10(x['Weight'] + 1), axis=1)\n",
    "              top['points_metric'] = top.apply(lambda x: np.abs(x['y'] - x['y_hat']) / np.log10(x['Weight'] + 1), axis=1)\n",
    "\n",
    "              bottom  = model_results\n",
    "              \n",
    "              bottom = bottom[(bottom['y'] < dict_12[pos]) & (bottom['y'] > dict_24_36[pos])]\n",
    "              bottom['Diff'] = bottom['Rank'] - bottom['Rank_pred']\n",
    "              #bottom = bottom.sort_values('y',ascending=False)\n",
    "              bottom = bottom.sort_values('y_hat',ascending=False)\n",
    "              bottom['rank_metric'] = bottom.apply(lambda x: np.abs(x['Diff']) / np.log10(x['Weight'] + 1), axis=1)\n",
    "              bottom['points_metric'] = bottom.apply(lambda x: np.abs(x['y'] - x['y_hat']) / np.log10(x['Weight'] + 1), axis=1)\n",
    "              \n",
    "              \n",
    "              rank_top = np.sum(top['rank_metric'])\n",
    "              median_top = np.median(top['rank_metric'])\n",
    "              points_median_top = np.median(top['points_metric'])\n",
    "\n",
    "              rank_bottom = np.sum(bottom['rank_metric'])\n",
    "              median_bottom = np.median(bottom['rank_metric'])\n",
    "              points_median_bottom = np.median(bottom['points_metric'])\n",
    "\n",
    "              test_MAPE_20 = mean_absolute_percentage_error(top['y'], top['y_hat'])\n",
    "              test_MAPE_50 = mean_absolute_percentage_error(bottom['y'], bottom['y_hat'])\n",
    "              test_MAPE_FULL = mean_absolute_percentage_error(model_results['y'], model_results['y_hat'])\n",
    "\n",
    "\n",
    "              \n",
    "              return rank_top, test_MAPE_20, points_median_top, rank_bottom, test_MAPE_50, points_median_bottom\n",
    "          \n",
    "          else: \n",
    "      \n",
    "              #model_results = model_results.sort_values('y',ascending=False)\n",
    "              model_results = model_results.sort_values('y_hat',ascending=False)\n",
    "              model_results['Weight'] = 0\n",
    "              model_results['Weight'].iloc[0:5] = 2 #1\n",
    "              model_results['Weight'].iloc[5:10] = 2\n",
    "              model_results['Weight'].iloc[10:15] = 4\n",
    "              model_results['Weight'].iloc[15:20] = 8\n",
    "              model_results['Weight'].iloc[20:] = 16\n",
    "              #model_results = model_results.sort_values('y_hat',ascending=False)\n",
    "              model_results = model_results.sort_values('y',ascending=False)\n",
    "              model_results['Rank_pred'] = model_results.reset_index().index \n",
    "              model_results['Rank_pred'] = model_results['Rank_pred'] + 1\n",
    "              # model_results['Weight'] = 0\n",
    "              # model_results['Weight'].iloc[0:5] = 1\n",
    "              # model_results['Weight'].iloc[5:10] = 2\n",
    "              # model_results['Weight'].iloc[10:15] = 4\n",
    "              # model_results['Weight'].iloc[15:20] = 8\n",
    "              # model_results['Weight'].iloc[20:] = 16\n",
    "              \n",
    "              \n",
    "              # join for Comparison\n",
    "              joined_results = model_results.merge(top_50, left_on=['Player','Max_Team_Name','Pos','Current_Year'], right_on=['Player','Max_Team_Name','Pos','Current_Year'], how='left', suffixes=('', '_DROP')).filter(regex='^(?!.*_DROP)')\n",
    "              joined_results['Diff'] = joined_results['Rank'] - joined_results['Rank_pred']\n",
    "              #joined_results = joined_results.sort_values('y',ascending=False)\n",
    "              joined_results = joined_results.sort_values('y_hat',ascending=False)\n",
    "              joined_results['rank_metric'] = joined_results.apply(lambda x: np.abs(x['Diff']) / np.log10(x['Weight'] + 1), axis=1)\n",
    "              joined_results['points_metric'] = joined_results.apply(lambda x: np.abs(x['y'] - x['y_hat']) / np.log10(x['Weight'] + 1), axis=1)\n",
    "    \n",
    "\n",
    "              if pos == 'QB' or pos == 'TE':\n",
    "                \n",
    "                filtered_results = joined_results.iloc[0:12, :]\n",
    "                bottom = joined_results.iloc[12:24,:]\n",
    "              else:\n",
    "                filtered_results = joined_results.iloc[0:12, :]\n",
    "                bottom = joined_results.iloc[12:36,:]\n",
    "\n",
    "\n",
    "              \n",
    "              rank_20 = np.sum(filtered_results['rank_metric'])\n",
    "              rank_median_20 = np.median(filtered_results['rank_metric'])\n",
    "              points_rank_20 = np.sum(filtered_results['points_metric'])\n",
    "              points_median_20 = np.median(filtered_results['points_metric'])\n",
    "\n",
    "              rank_50 = np.sum(bottom['rank_metric'])\n",
    "              rank_median_50 = np.median(bottom['rank_metric'])\n",
    "              points_rank_50 = np.sum(bottom['points_metric'])\n",
    "              points_median_50 = np.median(bottom['points_metric'])\n",
    "\n",
    "              MAPE_20 = mean_absolute_percentage_error(filtered_results['y'], filtered_results['y_hat'])\n",
    "              MAPE_50 = mean_absolute_percentage_error(bottom['y'], bottom['y_hat'])\n",
    "              MAPE_FULL = mean_absolute_percentage_error(joined_results['y'], joined_results['y_hat'])\n",
    "\n",
    "              return joined_results, rank_50, MAPE_50, points_rank_50, points_median_50, rank_20, MAPE_20, points_rank_20, points_median_20\n",
    "              \n",
    "      \n",
    "      \n",
    "      print('Running Models')\n",
    "      \n",
    "      # Loop\n",
    "      for cutoff_val in cutoff_val_list:\n",
    "\n",
    "        print('Running Cutoff_val ' + str(cutoff_val))\n",
    "        for pca_val in pca_list:\n",
    "            for boxcox_val in boxcox_list:\n",
    "                for cooks_val in cooks_list:\n",
    "                  for model in model_list:\n",
    "                    for use_scorer in scorer_list:\n",
    "                      for one_year in one_year_list:\n",
    "\n",
    "                        print(pca_val, boxcox_val, cooks_val, model, one_year)\n",
    "\n",
    "\n",
    "                        if one_year == 1:\n",
    "                          temp_data = data_full[data_full.columns.drop(list(data_full.filter(regex='- 2')))]\n",
    "                          temp_data = temp_data[temp_data.columns.drop(list(temp_data.filter(regex='- 3')))]\n",
    "\n",
    "\n",
    "                        elif one_year == 2:\n",
    "                          temp_data = data_full[data_full.columns.drop(list(data_full.filter(regex='- 3')))]\n",
    "\n",
    "                        else:\n",
    "                          temp_data = data_full\n",
    "\n",
    "                        \n",
    "                        \n",
    "                        # Val Set\n",
    "                        val_set = temp_data[temp_data['Current_Year'] == 2021]\n",
    "                        pred_set = temp_data[temp_data['Current_Year'] == 2022]\n",
    "\n",
    "\n",
    "                        model_data = temp_data[temp_data[metric] > 0]\n",
    "                        model_data = model_data[model_data['Avg_PPRFantasyPoints; year - 1'] > cutoff_val]\n",
    "                        model_data = model_data[model_data['Current_Year'] < 2021]\n",
    "                        model_data = model_data[model_data['Current_Year'] >= 2011]\n",
    "                        \n",
    "                        \n",
    "                        \n",
    "                        # RB Modeling\n",
    "                        data = model_data.copy()\n",
    "                        \n",
    "                        \n",
    "                        \n",
    "                        if boxcox_val == True:\n",
    "                          # Boxcox transformation\n",
    "                          transformed_data, best_lambda = boxcox(data[metric]) \n",
    "\n",
    "                          # Replace Y with transformed data\n",
    "                          data['y'] = transformed_data\n",
    "                        else:\n",
    "                          data['y'] = data[metric]\n",
    "                        \n",
    "                        \n",
    "                        data = data.drop(columns=str(metric), axis=1)\n",
    "                        \n",
    "                        # Split into Train and Test\n",
    "                        x_players = data.iloc[:, 0:4]\n",
    "                        x_data = data.iloc[:, 4:-1]\n",
    "                        y_data = data.iloc[:, -1]\n",
    "                        \n",
    "                        # Fill NA with 0\n",
    "                        x_data = x_data.fillna(0)\n",
    "                            \n",
    "                        # Split Train Test\n",
    "                        x_train, x_test, y_train, y_test = train_test_split(x_data, y_data, test_size=0.30, random_state=614, shuffle=True)\n",
    "                        \n",
    "                        # Undo ytest lambda\n",
    "                        if boxcox_val == True:\n",
    "                          y_test = inv_boxcox(y_test, best_lambda)\n",
    "                        \n",
    "                        # If Cooks\n",
    "                        if cooks_val == True:\n",
    "                          visualizer = CooksDistance()\n",
    "                          visualizer.fit(x_train, y_train)\n",
    "                          #visualizer.show()\n",
    "                          i_less_influential = (visualizer.distance_ <= visualizer.influence_threshold_)\n",
    "                          x_train, y_train = x_train[i_less_influential], y_train[i_less_influential]\n",
    "                        \n",
    "                        # Scale data\n",
    "                        scaler = StandardScaler() \n",
    "                        x_train = scaler.fit_transform(x_train)\n",
    "                        x_test = scaler.transform(x_test)\n",
    "                        \n",
    "                        # Val Data\n",
    "                        val_players = val_set.iloc[:, 0:4]\n",
    "                        val_x = val_set.iloc[:, 4:-1]\n",
    "                        val_x = val_x.fillna(0)\n",
    "                        val_y = val_set.iloc[:, -1]\n",
    "\n",
    "                        # Prediction Data\n",
    "\n",
    "                        pred_players = pred_set.iloc[:, 0:4]\n",
    "                        pred_x = pred_set.iloc[:, 4:-1]\n",
    "                        pred_x = pred_x.fillna(0)\n",
    "                        pred_y = pred_set.iloc[:, -1]\n",
    "                        \n",
    "                        # Scale val_x\n",
    "                        val_x = scaler.transform(val_x)\n",
    "                        pred_x = scaler.transform(pred_x)\n",
    "                        \n",
    "                        # If PCA\n",
    "                        if pca_val:\n",
    "                          try:\n",
    "                            pca = PCA(n_components = pca_val)\n",
    "                            x_train = pca.fit_transform(x_train)\n",
    "                            x_test = pca.transform(x_test)\n",
    "                            val_x = pca.transform(val_x)\n",
    "                            pred_x = pca.transform(pred_x)\n",
    "                          except:\n",
    "                            pass\n",
    "\n",
    "                        \n",
    "                        \n",
    "                        \n",
    "                        # Try  with CV\n",
    "                        folds = KFold(n_splits = 5, shuffle = True, random_state = 100)\n",
    "                        \n",
    "                        # Pull out top 50\n",
    "                        top_50 = pd.DataFrame(val_players)\n",
    "                        top_50['cutoff_val'] = cutoff_val\n",
    "                        top_50['y'] = val_y\n",
    "                        top_50 = top_50.sort_values('y',ascending=False).iloc[0:50,:]\n",
    "                        top_50['Rank'] = top_50.reset_index().index\n",
    "                        top_50['Rank'] = top_50['Rank'] + 1\n",
    "\n",
    "                        \n",
    "                        ############## Elastic Net\n",
    "                        \n",
    "                        try:\n",
    "                          # define model\n",
    "\n",
    "                          if model == 'EN':\n",
    "                            EN = ElasticNet(random_state = 420)\n",
    "                            # define model evaluation method (used same folds as above for first pass)\n",
    "\n",
    "                            # define grid\n",
    "                            EN_grid = dict()\n",
    "                            EN_grid['alpha'] = [1e-5, 1e-4, 1e-3, 1e-2, 1e-1, 0.0, 1.0, 10.0, 100.0]\n",
    "                            EN_grid['l1_ratio'] = arange(0, 1, 0.01)\n",
    "                            # define search\n",
    "                            if use_scorer == True:\n",
    "                              EN_search = GridSearchCV(EN, EN_grid, scoring=scorer, cv=folds, n_jobs=-1)\n",
    "                            else:\n",
    "                              EN_search = GridSearchCV(EN, EN_grid, scoring='neg_mean_absolute_percentage_error', cv=folds, n_jobs=-1)\n",
    "\n",
    "                            # perform the search\n",
    "                            EN_results = EN_search.fit(x_train, y_train)\n",
    "\n",
    "\n",
    "                          ############# XGBoost\n",
    "                          \n",
    "                          if model == 'XG':\n",
    "                            xgbr = xgb.XGBRegressor(seed = 420)\n",
    "\n",
    "                            random_grid = { 'max_depth': [3,5,7, 10],\n",
    "                              'learning_rate': [0.01, 0.03, 0.05, 0.1, 0.15],\n",
    "                              'n_estimators': [100, 500, 1000],\n",
    "                              'min_child_weight': [ 1, 3, 5, 7],\n",
    "                              \"gamma\":[ 0.0, 0.1, 0.2],\n",
    "                              'colsample_bytree': [0.3, 0.7]}\n",
    "                              \n",
    "                              \n",
    "                              # define search\n",
    "                            xg_cv = GridSearchCV(estimator=xgbr, \n",
    "                                    param_grid=random_grid,\n",
    "                                    cv = folds,\n",
    "                                    scoring='neg_mean_absolute_percentage_error', \n",
    "                                    n_jobs=-1)\n",
    "                              # perform the search\n",
    "                            EN_results = xg_cv.fit(x_train, y_train)\n",
    "\n",
    "                          ############# Neural Net\n",
    "                          if model == 'NN':\n",
    "                            mlpr = MLPRegressor(max_iter=5000)\n",
    "                            random_grid = {\"hidden_layer_sizes\": [(1,),(50,),(50,50,50), (50,100,50), (100,)], \n",
    "                                      \"activation\": [\"identity\", \"logistic\", \"tanh\", \"relu\"], \n",
    "                                      \"solver\": [\"lbfgs\", \"sgd\", \"adam\"], \n",
    "                                      \"alpha\": [0.00005,0.0005]}\n",
    "\n",
    "                            nn_cv = GridSearchCV(estimator=mlpr, param_grid=random_grid, scoring='neg_mean_absolute_percentage_error', cv=folds, n_jobs=-1)\n",
    "                            EN_results = nn_cv.fit(x_train, y_train)\n",
    "                          ############## Random Forest\n",
    "                          \n",
    "                          if model == 'RF':\n",
    "                            random_grid = {'n_estimators': [100, 200, 500],\n",
    "                              'max_features': ['auto', 'sqrt'],\n",
    "                              'max_depth' : [None,6,10],#,15,30],\n",
    "                              #\"bootstrap\" : [True, False],\n",
    "                              'min_samples_split': [2, 5]}\n",
    "                              #'min_samples_leaf': [1, 2]}\n",
    "                   \n",
    "                      \n",
    "                            rf = RandomForestRegressor(random_state=420)\n",
    "                            \n",
    "                            # define search\n",
    "                            if use_scorer == True:\n",
    "                              rf_cv = GridSearchCV(estimator=rf, \n",
    "                                                  param_grid=random_grid,\n",
    "                                                  cv = folds,\n",
    "                                                  scoring=scorer, \n",
    "                                                  n_jobs=-1)\n",
    "                            else:\n",
    "                              rf_cv = GridSearchCV(estimator=rf, \n",
    "                                                  param_grid=random_grid,\n",
    "                                                  cv = folds,\n",
    "                                                  scoring='neg_mean_absolute_percentage_error', \n",
    "                                                  n_jobs=-1)\n",
    "                            # perform the search\n",
    "                            EN_results = rf_cv.fit(x_train, y_train)\n",
    "\n",
    "\n",
    "                          ############# Create predictions\n",
    "                          \n",
    "                          rf_val_pred = EN_results.predict(val_x)\n",
    "                          rf_test_pred = EN_results.predict(x_test)\n",
    "                          rf_pred_pred = EN_results.predict(pred_x)\n",
    "                          if boxcox_val == True:\n",
    "                            rf_val_pred = inv_boxcox(rf_val_pred, best_lambda)\n",
    "                            rf_test_pred = inv_boxcox(rf_test_pred, best_lambda)\n",
    "                            rf_pred_pred = inv_boxcox(rf_pred_pred, best_lambda)\n",
    "                          \n",
    "                          rf_results = pd.DataFrame(val_players)\n",
    "                          rf_results['Metric'] = metric_clean\n",
    "                          rf_results['Cooks'] = cooks_val\n",
    "                          rf_results['Boxcox'] = boxcox_val\n",
    "                          rf_results['PCA'] = pca_val\n",
    "                          rf_results['Model'] = model\n",
    "                          rf_results['Scoring'] = use_scorer\n",
    "                          rf_results['One_Year'] = one_year\n",
    "                          rf_results['cutoff_val'] = cutoff_val\n",
    "                          rf_results['y'] = val_y\n",
    "                          rf_results['y_hat'] = rf_val_pred\n",
    "                          rf_results = rf_results[rf_results['y_hat'] > 0]\n",
    "                          rf_results = rf_results[rf_results['y'] > 0].sort_values('y', ascending=False)\n",
    "                          rf_results = rf_results.iloc[0:50,:]\n",
    "                          \n",
    "                          rf_results_joined, rank_50, MAPE_50, points_rank_50, points_median_50, rank_20, MAPE_20, points_rank_20, points_median_20 = top_50_df(rf_results, top_50, False, pos, dict_12, dict_24_36)\n",
    "\n",
    "\n",
    "                          # Predictions\n",
    "                          EN_results = pd.DataFrame(pred_players)\n",
    "                          EN_results['Metric'] = metric_clean\n",
    "                          EN_results['Cooks'] = cooks_val\n",
    "                          EN_results['Boxcox'] = boxcox_val\n",
    "                          EN_results['PCA'] = pca_val\n",
    "                          EN_results['Model'] = model\n",
    "                          EN_results['Scoring'] = use_scorer\n",
    "                          EN_results['One_Year'] = one_year\n",
    "                          EN_results['cutoff_val'] = cutoff_val\n",
    "                          EN_results['y_hat'] = rf_pred_pred\n",
    "\n",
    "\n",
    "                          # Test MSE\n",
    "                          \n",
    "                          test_df = pd.DataFrame()\n",
    "\n",
    "                          test_df['y'] = y_test\n",
    "                          test_df['y_hat'] = rf_test_pred\n",
    "                          test_df = test_df.sort_values('y',ascending=False)\n",
    "                          test_df = test_df[test_df['y'] > 0]\n",
    "                          test_df = test_df[test_df['y_hat'] > 0]\n",
    "\n",
    "\n",
    "                          test_rank_top, test_MAPE_20, test_points_median_top, test_rank_bottom, test_MAPE_50, test_points_median_bottom = top_50_df(test_df, top_50, True, pos, dict_12, dict_24_36)\n",
    "                          #rf_test_rank, rf_test_median, rf_test_points_median = top_50_df(test_df, top_50, True)\n",
    "\n",
    "\n",
    "                          RF_data = pd.DataFrame(data=[[metric_clean, cooks_val, boxcox_val, pca_val, cutoff_val, model, one_year, use_scorer, rank_50, MAPE_50, points_rank_50, points_median_50, rank_20, MAPE_20, points_rank_20, points_median_20, test_rank_top, test_MAPE_20, test_points_median_top, test_rank_bottom, test_MAPE_50, test_points_median_bottom]] \\\n",
    "                                                , columns = ['Metric','Cooks','Boxcox','PCA', 'Cutoff_Val', 'Model', 'Year1Only', 'Custom_Scorer', 'rank_50', 'MAPE_50', 'points_rank_50','points_median_50', 'rank_20', 'MAPE_20','points_rank_20','points_median_20', 'test_rank_top', 'test_MAPE_20', 'test_points_median_top', 'test_rank_bottom', 'test_MAPE_50', 'test_points_median_bottom'])\n",
    "                          final_results = pd.concat([final_results, RF_data])\n",
    "                          prediction_results = pd.concat([prediction_results, rf_results_joined])\n",
    "                          preds_2022_results = pd.concat([preds_2022_results, EN_results])\n",
    "\n",
    "                          # Upload results\n",
    "                          final_results.to_excel('/content/gdrive/MyDrive/DVA Project/Data/Predictions/Raw_Predictions/{}_model_results_{}.xlsx'.format(pos, today))\n",
    "                          prediction_results.to_excel('/content/gdrive/MyDrive/DVA Project/Data/Predictions/Raw_Predictions/2021_{}_predictions_{}.xlsx'.format(pos,today))\n",
    "                          preds_2022_results.to_excel('/content/gdrive/MyDrive/DVA Project/Data/Predictions/Raw_Predictions/2022_{}_predictions_{}.xlsx'.format(pos, today))\n",
    "\n",
    "                        except:\n",
    "                          print('Metric, cutoff, pca, boxcox, cooks, model, scorer, one_year')\n",
    "                          print(metric_clean, cutoff_val, pca_val, boxcox_val, cooks_val, model, use_scorer, one_year)\n",
    "                          pass\n",
    "\n",
    "    #return final_results, prediction_results\n",
    "    #if save == True:\n",
    "     #   print('Saving Models')\n",
    "        # Save outputs\n",
    "        #final_results.to_excel('/content/gdrive/MyDrive/DVA Project/Data/Predictions/Raw_Predictions/{}_model_results_{}.xlsx'.format(pos, today))\n",
    "\n",
    "        #prediction_results.to_excel('/content/gdrive/MyDrive/DVA Project/Data/Predictions/Raw_Predictions/2021_{}_predictions_{}.xlsx'.format(pos,today))\n",
    "\n",
    "       # preds_2022_results.to_excel('/content/gdrive/MyDrive/DVA Project/Data/Predictions/Raw_Predictions/2022_{}_predictions_{}.xlsx'.format(pos, today))\n",
    "                "
   ]
  },
  {
   "cell_type": "code",
   "execution_count": null,
   "metadata": {
    "colab": {
     "base_uri": "https://localhost:8080/"
    },
    "id": "zi2gpPzSr3Ea",
    "outputId": "f39ae1b6-7a68-4b87-a14c-bca40d46a58d"
   },
   "outputs": [
    {
     "name": "stdout",
     "output_type": "stream",
     "text": [
      "Pulling data\n",
      "Running Models\n",
      "Running Cutoff_val 0\n",
      "None True True RF 1\n",
      "None True True RF 2\n",
      "None True True EN 1\n",
      "None True True EN 2\n",
      "None True True NN 1\n",
      "None True True NN 2\n",
      "None True False RF 1\n",
      "None True False RF 2\n",
      "None True False EN 1\n",
      "None True False EN 2\n",
      "None True False NN 1\n",
      "None True False NN 2\n",
      "None False True RF 1\n",
      "None False True RF 2\n",
      "None False True EN 1\n",
      "None False True EN 2\n",
      "None False True NN 1\n",
      "None False True NN 2\n",
      "None False False RF 1\n",
      "None False False RF 2\n",
      "None False False EN 1\n",
      "None False False EN 2\n",
      "None False False NN 1\n",
      "None False False NN 2\n",
      "25 True True RF 1\n",
      "25 True True RF 2\n",
      "25 True True EN 1\n",
      "25 True True EN 2\n",
      "25 True True NN 1\n",
      "25 True True NN 2\n",
      "25 True False RF 1\n",
      "25 True False RF 2\n",
      "25 True False EN 1\n",
      "25 True False EN 2\n",
      "25 True False NN 1\n",
      "25 True False NN 2\n",
      "25 False True RF 1\n",
      "25 False True RF 2\n",
      "25 False True EN 1\n",
      "25 False True EN 2\n",
      "25 False True NN 1\n",
      "25 False True NN 2\n",
      "25 False False RF 1\n",
      "25 False False RF 2\n",
      "25 False False EN 1\n",
      "25 False False EN 2\n",
      "25 False False NN 1\n",
      "25 False False NN 2\n",
      "50 True True RF 1\n",
      "50 True True RF 2\n",
      "50 True True EN 1\n",
      "50 True True EN 2\n",
      "50 True True NN 1\n",
      "50 True True NN 2\n",
      "50 True False RF 1\n",
      "50 True False RF 2\n",
      "50 True False EN 1\n",
      "50 True False EN 2\n",
      "50 True False NN 1\n",
      "50 True False NN 2\n",
      "50 False True RF 1\n",
      "50 False True RF 2\n",
      "50 False True EN 1\n",
      "50 False True EN 2\n",
      "50 False True NN 1\n",
      "50 False True NN 2\n",
      "50 False False RF 1\n",
      "50 False False RF 2\n",
      "50 False False EN 1\n",
      "50 False False EN 2\n",
      "50 False False NN 1\n",
      "50 False False NN 2\n",
      "Running Cutoff_val 4\n",
      "None True True RF 1\n",
      "None True True RF 2\n",
      "None True True EN 1\n",
      "None True True EN 2\n",
      "None True True NN 1\n",
      "None True True NN 2\n",
      "None True False RF 1\n",
      "None True False RF 2\n",
      "None True False EN 1\n",
      "None True False EN 2\n",
      "None True False NN 1\n",
      "None True False NN 2\n",
      "None False True RF 1\n",
      "None False True RF 2\n",
      "None False True EN 1\n",
      "None False True EN 2\n",
      "None False True NN 1\n",
      "None False True NN 2\n",
      "None False False RF 1\n",
      "None False False RF 2\n",
      "None False False EN 1\n",
      "None False False EN 2\n",
      "None False False NN 1\n",
      "None False False NN 2\n",
      "25 True True RF 1\n",
      "25 True True RF 2\n",
      "25 True True EN 1\n",
      "25 True True EN 2\n",
      "25 True True NN 1\n",
      "25 True True NN 2\n",
      "25 True False RF 1\n",
      "25 True False RF 2\n"
     ]
    }
   ],
   "source": [
    "run_models_FINAL(pos='RB',save=True, metric='Avg')"
   ]
  },
  {
   "cell_type": "code",
   "execution_count": null,
   "metadata": {
    "id": "Lf--4QVer4mr"
   },
   "outputs": [],
   "source": [
    "run_models_FINAL(pos='WR',save=True, metric='Avg')"
   ]
  },
  {
   "cell_type": "code",
   "execution_count": null,
   "metadata": {
    "colab": {
     "base_uri": "https://localhost:8080/",
     "height": 317
    },
    "executionInfo": {
     "elapsed": 205,
     "status": "error",
     "timestamp": 1655692067488,
     "user": {
      "displayName": "Alex Haan",
      "userId": "05701709048639503453"
     },
     "user_tz": 420
    },
    "id": "Vf00RPG2SG7q",
    "outputId": "4a83e5ae-b801-4d61-9846-e66e4ad40750"
   },
   "outputs": [
    {
     "name": "stdout",
     "output_type": "stream",
     "text": [
      "Pulling data\n"
     ]
    },
    {
     "ename": "NameError",
     "evalue": "ignored",
     "output_type": "error",
     "traceback": [
      "\u001b[0;31m---------------------------------------------------------------------------\u001b[0m",
      "\u001b[0;31mNameError\u001b[0m                                 Traceback (most recent call last)",
      "\u001b[0;32m<ipython-input-2-6f5b8d15226b>\u001b[0m in \u001b[0;36m<module>\u001b[0;34m()\u001b[0m\n\u001b[0;32m----> 1\u001b[0;31m \u001b[0mrun_models_FINAL\u001b[0m\u001b[0;34m(\u001b[0m\u001b[0mpos\u001b[0m\u001b[0;34m=\u001b[0m\u001b[0;34m'QB'\u001b[0m\u001b[0;34m,\u001b[0m\u001b[0msave\u001b[0m\u001b[0;34m=\u001b[0m\u001b[0;32mTrue\u001b[0m\u001b[0;34m)\u001b[0m\u001b[0;34m\u001b[0m\u001b[0;34m\u001b[0m\u001b[0m\n\u001b[0m",
      "\u001b[0;32m<ipython-input-1-40fc7efbcad0>\u001b[0m in \u001b[0;36mrun_models_FINAL\u001b[0;34m(pos, save)\u001b[0m\n\u001b[1;32m      5\u001b[0m     \u001b[0mmetric_list\u001b[0m \u001b[0;34m=\u001b[0m \u001b[0;34m[\u001b[0m\u001b[0;34m'Avg'\u001b[0m\u001b[0;34m,\u001b[0m\u001b[0;34m'Sum'\u001b[0m\u001b[0;34m]\u001b[0m\u001b[0;34m\u001b[0m\u001b[0;34m\u001b[0m\u001b[0m\n\u001b[1;32m      6\u001b[0m \u001b[0;34m\u001b[0m\u001b[0m\n\u001b[0;32m----> 7\u001b[0;31m     \u001b[0mfinal_results\u001b[0m \u001b[0;34m=\u001b[0m \u001b[0mpd\u001b[0m\u001b[0;34m.\u001b[0m\u001b[0mDataFrame\u001b[0m\u001b[0;34m(\u001b[0m\u001b[0;34m)\u001b[0m\u001b[0;34m\u001b[0m\u001b[0;34m\u001b[0m\u001b[0m\n\u001b[0m\u001b[1;32m      8\u001b[0m     \u001b[0mprediction_results\u001b[0m \u001b[0;34m=\u001b[0m \u001b[0mpd\u001b[0m\u001b[0;34m.\u001b[0m\u001b[0mDataFrame\u001b[0m\u001b[0;34m(\u001b[0m\u001b[0;34m)\u001b[0m\u001b[0;34m\u001b[0m\u001b[0;34m\u001b[0m\u001b[0m\n\u001b[1;32m      9\u001b[0m     \u001b[0mpreds_2022_results\u001b[0m \u001b[0;34m=\u001b[0m \u001b[0mpd\u001b[0m\u001b[0;34m.\u001b[0m\u001b[0mDataFrame\u001b[0m\u001b[0;34m(\u001b[0m\u001b[0;34m)\u001b[0m\u001b[0;34m\u001b[0m\u001b[0;34m\u001b[0m\u001b[0m\n",
      "\u001b[0;31mNameError\u001b[0m: name 'pd' is not defined"
     ]
    }
   ],
   "source": [
    "run_models_FINAL(pos='QB',save=True)"
   ]
  },
  {
   "cell_type": "code",
   "execution_count": null,
   "metadata": {
    "id": "dq7uolpQr5yM"
   },
   "outputs": [],
   "source": [
    "run_models_FINAL(pos='TE',save=True)"
   ]
  },
  {
   "cell_type": "markdown",
   "metadata": {
    "id": "VglZaLrJRgZB"
   },
   "source": [
    "# Below is optional:\n",
    "## Use pred_rankings to further analyze prediction results"
   ]
  },
  {
   "cell_type": "code",
   "execution_count": null,
   "metadata": {
    "id": "f8G8BMv2P_Mx"
   },
   "outputs": [],
   "source": [
    "def pred_rankings(pos):\n",
    "\n",
    "  pos = pos\n",
    "  try:\n",
    "    df = pd.read_excel('/content/gdrive/MyDrive/DVA Project/Data/Model_Outputs/Optimizing_Points/EN_Testing/Model_Comparisons/2021_{}_predictions_2022-04-12.xlsx'.format(pos))\n",
    "  except:\n",
    "    df = pd.read_excel('/content/gdrive/MyDrive/DVA Project/Data/Model_Outputs/Optimizing_Points/EN_Testing/Model_Comparisons/2021_{}_predictions_2022-04-11.xlsx'.format(pos))\n",
    "  df = df.sort_values('Rank_pred',ascending=True)\n",
    "\n",
    "\n",
    "  output_df = pd.DataFrame()\n",
    "  # Loop through\n",
    "  metric_list = ['Avg','Sum']\n",
    "  #cutoff_val_list = [4,6,9,50,100,50]\n",
    "  pca_list = [True, False]\n",
    "  boxcox_list = [True, False]\n",
    "  cooks_list = [True, False]\n",
    "  model_list = ['EN','RF']\n",
    "  scorer_list =[True, False]\n",
    "  one_year_list = [True, False]\n",
    "\n",
    "  for metric in metric_list:\n",
    "    if metric == 'Avg':\n",
    "      cutoff_val_list = [0,4,6,9]\n",
    "    else:\n",
    "        cutoff_val_list = [0,50,100,150]\n",
    "    for cutoff_val in cutoff_val_list:\n",
    "      for pca_val in pca_list:\n",
    "        for boxcox_val in boxcox_list:\n",
    "            for cooks_val in cooks_list:\n",
    "              for model in model_list:\n",
    "                for use_scorer in scorer_list:\n",
    "                  for one_year in one_year_list:\n",
    "                    if model == 'EN':\n",
    "\n",
    "                      print(metric)\n",
    "                      print(df_temp.columns)\n",
    "                      print(df_temp.head())\n",
    "                      df_temp = df[(df['Model'] == 'EN') & (df['Metric'] == metric)]\n",
    "                      df_temp = df_temp.query(f\"cutoff_val == {cutoff_val} and PCA == {pca_val} and Boxcox == {boxcox_val} and Cooks == {cooks_val} and  Scoring == {use_scorer} and One_Year == {one_year} \")\n",
    "\n",
    "                      top = df_temp.iloc[0:12]\n",
    "                      top_mean = np.mean(abs(top['Diff']))\n",
    "                      top_sum = np.sum(abs(top['Diff']))\n",
    "                      top_median = np.median(abs(top['Diff']))\n",
    "                      top_count = (top['Rank'] <= 12).sum() * -1\n",
    "\n",
    "                      bottom = df_temp.iloc[12:36]\n",
    "                      bottom_mean = np.mean(abs(bottom['Diff']))\n",
    "                      bottom_sum = np.sum(abs(bottom['Diff']))\n",
    "                      bottom_median = np.median(abs(bottom['Diff']))\n",
    "                      bottom_count = (bottom['Rank'] <= 24).sum() * -1\n",
    "                    \n",
    "\n",
    "                      temp_df = pd.DataFrame([[metric, cutoff_val,cooks_val, boxcox_val, pca_val,  model, use_scorer, one_year, top_mean, top_sum, top_median, top_count, bottom_mean, bottom_sum, bottom_median, bottom_count]], \\\n",
    "                                            columns = ['metric', 'cutoff_val', 'cooks_val',  'boxcox_val', 'pca_val','model', 'use_scorer', 'one_year', 'top_mean', 'top_sum','top_median','top_count','bottom_mean', 'bottom_sum','bottom_median','bottom_count'])\n",
    "\n",
    "                      output_df = pd.concat([output_df, temp_df])\n",
    "\n",
    "                    else:\n",
    "                      df_temp = df[(df['Model'] == 'RF') & (df['Metric'] == metric)]\n",
    "                      df_temp = df_temp.query(f\"cutoff_val == {cutoff_val} and PCA == {pca_val} and Boxcox == {boxcox_val} and Cooks == {cooks_val} and Scoring == {use_scorer} and One_Year == {one_year} \")\n",
    "\n",
    "                      top = df_temp.iloc[0:12]\n",
    "                      top_mean = np.mean(abs(top['Diff']))\n",
    "                      top_sum = np.sum(abs(top['Diff']))\n",
    "                      top_median = np.median(abs(top['Diff']))\n",
    "                      top_count = (top['Rank'] <= 12).sum() * -1\n",
    "\n",
    "                      bottom = df_temp.iloc[12:36]\n",
    "                      bottom_mean = np.mean(abs(bottom['Diff']))\n",
    "                      bottom_sum = np.sum(abs(bottom['Diff']))\n",
    "                      bottom_median = np.median(abs(bottom['Diff']))\n",
    "                      bottom_count = (bottom['Rank'] <= 24).sum() * -1\n",
    "\n",
    "                      temp_df = pd.DataFrame([[metric, cutoff_val,cooks_val, boxcox_val, pca_val,  model, use_scorer, one_year, top_mean, top_sum, top_median, top_count, bottom_mean, bottom_sum, bottom_median, bottom_count]], \\\n",
    "                                            columns = ['metric', 'cutoff_val', 'cooks_val',  'boxcox_val', 'pca_val','model', 'use_scorer', 'one_year', 'top_mean', 'top_sum','top_median','top_count','bottom_mean', 'bottom_sum','bottom_median','bottom_count'])\n",
    "                      output_df = pd.concat([output_df, temp_df])\n",
    "\n",
    "\n",
    "  return output_df"
   ]
  },
  {
   "cell_type": "code",
   "execution_count": null,
   "metadata": {
    "id": "RwsjIKc0WjnA"
   },
   "outputs": [],
   "source": [
    "wr_output = pred_rankings('WR')"
   ]
  },
  {
   "cell_type": "code",
   "execution_count": null,
   "metadata": {
    "id": "niVlAF1eTwoE"
   },
   "outputs": [],
   "source": [
    "rb_output = pred_rankings('RB')"
   ]
  },
  {
   "cell_type": "code",
   "execution_count": null,
   "metadata": {
    "id": "hkoF_z5xTy4Q"
   },
   "outputs": [],
   "source": [
    "rb_output"
   ]
  },
  {
   "cell_type": "code",
   "execution_count": null,
   "metadata": {
    "id": "L3sd3p56xX-t"
   },
   "outputs": [],
   "source": [
    "qb_output = pred_rankings('QB')"
   ]
  },
  {
   "cell_type": "code",
   "execution_count": null,
   "metadata": {
    "id": "SeLjRZo2O_C-"
   },
   "outputs": [],
   "source": [
    "qb_output"
   ]
  }
 ],
 "metadata": {
  "accelerator": "GPU",
  "colab": {
   "collapsed_sections": [],
   "machine_shape": "hm",
   "name": "Modeling.ipynb",
   "provenance": [
    {
     "file_id": "1-x6IXn1Oxpa4GmYYyzUepRPuaV-tPTm5",
     "timestamp": 1649431158127
    },
    {
     "file_id": "1guPmSpEU3-8hsryoTrBr4y5UkTBwkibZ",
     "timestamp": 1649368377176
    },
    {
     "file_id": "1rW1W-Cyj8s3_DVuHkQRE4TefBh5T0Yzz",
     "timestamp": 1649179457363
    },
    {
     "file_id": "1-iOrGkNtJ4ZKx41KEXEQKrFq8rxOwl7x",
     "timestamp": 1649177304026
    },
    {
     "file_id": "1Hq6pgO0taNFw6am04x6TkjpolpndkYlc",
     "timestamp": 1649103338599
    },
    {
     "file_id": "1QmI8bE7gZqs9NqqFc_CeDqX4lSlU4Ula",
     "timestamp": 1649093160188
    },
    {
     "file_id": "1VY0uU2p7xVpwEu9bAHBeek4QukNsZYwA",
     "timestamp": 1648776741698
    },
    {
     "file_id": "1JTAh7fCw1KUcBZkbYrD68aEqwSoemNgP",
     "timestamp": 1648682594096
    }
   ]
  },
  "kernelspec": {
   "display_name": "Python 3 (ipykernel)",
   "language": "python",
   "name": "python3"
  },
  "language_info": {
   "codemirror_mode": {
    "name": "ipython",
    "version": 3
   },
   "file_extension": ".py",
   "mimetype": "text/x-python",
   "name": "python",
   "nbconvert_exporter": "python",
   "pygments_lexer": "ipython3",
   "version": "3.8.12"
  }
 },
 "nbformat": 4,
 "nbformat_minor": 1
}
